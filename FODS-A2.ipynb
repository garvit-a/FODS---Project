{
 "cells": [
  {
   "cell_type": "code",
   "execution_count": 2,
   "metadata": {
    "collapsed": true
   },
   "outputs": [],
   "source": [
    "import numpy as np\n",
    "import matplotlib.pyplot as plt\n",
    "import pandas as pd\n",
    "%matplotlib inline\n",
    "from numpy.linalg import inv"
   ]
  },
  {
   "cell_type": "code",
   "execution_count": 3,
   "metadata": {
    "collapsed": true
   },
   "outputs": [],
   "source": [
    "plt.style.use(['ggplot'])\n",
    "data = pd.read_csv('data.txt')\n",
    "data.columns = [\"id\", \"long\", \"lati\", \"alti\"]\n",
    "data = data.drop('id',axis = 1);"
   ]
  },
  {
   "cell_type": "code",
   "execution_count": 4,
   "metadata": {
    "collapsed": true
   },
   "outputs": [],
   "source": [
    "x = data.drop('alti',axis = 1)\n",
    "x = x[['lati','long']]\n",
    "y = data['alti']\n",
    "X = np.array(x)\n",
    "y = np.array(y)"
   ]
  },
  {
   "cell_type": "code",
   "execution_count": 5,
   "metadata": {
    "collapsed": true
   },
   "outputs": [],
   "source": [
    "X = (X-np.mean(X, axis = 0))/np.std(X,axis = 0)\n",
    "y = (y-np.mean(y))/np.std(y)"
   ]
  },
  {
   "cell_type": "code",
   "execution_count": 6,
   "metadata": {
    "collapsed": true
   },
   "outputs": [],
   "source": [
    "from sklearn.model_selection import train_test_split\n",
    "from sklearn.preprocessing import PolynomialFeatures as pf"
   ]
  },
  {
   "cell_type": "code",
   "execution_count": 7,
   "metadata": {
    "collapsed": true
   },
   "outputs": [],
   "source": [
    "X_train, X_test, y_train, y_test = train_test_split(X, y, test_size = 0.3)\n",
    "X_test, X_val, y_test, y_val = train_test_split(X_test, y_test, test_size = 0.05)\n",
    "X_test = np.concatenate([X_test,X_val], axis = 0)\n",
    "y_test = np.concatenate([y_test, y_val])"
   ]
  },
  {
   "cell_type": "code",
   "execution_count": 8,
   "metadata": {
    "collapsed": true
   },
   "outputs": [],
   "source": [
    "poly = pf(degree=2, interaction_only=False, include_bias=True)\n",
    "X_train_2 = poly.fit_transform(X_train)\n",
    "X_test_2 = poly.fit_transform(X_test)\n",
    "X_val_2 = poly.fit_transform(X_val)"
   ]
  },
  {
   "cell_type": "code",
   "execution_count": 9,
   "metadata": {
    "collapsed": true
   },
   "outputs": [],
   "source": [
    "poly = pf(degree=3, interaction_only=False, include_bias=True)\n",
    "X_train_3 = poly.fit_transform(X_train)\n",
    "X_test_3 = poly.fit_transform(X_test)\n",
    "X_val_3 = poly.fit_transform(X_val)"
   ]
  },
  {
   "cell_type": "code",
   "execution_count": 10,
   "metadata": {
    "collapsed": true
   },
   "outputs": [],
   "source": [
    "poly = pf(degree=4, interaction_only=False, include_bias=True)\n",
    "X_train_4 = poly.fit_transform(X_train)\n",
    "X_test_4 = poly.fit_transform(X_test)\n",
    "X_val_4 = poly.fit_transform(X_val)"
   ]
  },
  {
   "cell_type": "code",
   "execution_count": 11,
   "metadata": {
    "collapsed": true
   },
   "outputs": [],
   "source": [
    "poly = pf(degree=5, interaction_only=False, include_bias=True)\n",
    "X_train_5 = poly.fit_transform(X_train)\n",
    "X_test_5 = poly.fit_transform(X_test)\n",
    "X_val_5 = poly.fit_transform(X_val)"
   ]
  },
  {
   "cell_type": "code",
   "execution_count": 12,
   "metadata": {
    "collapsed": true
   },
   "outputs": [],
   "source": [
    "poly = pf(degree=6, interaction_only=False, include_bias=True)\n",
    "X_train_6 = poly.fit_transform(X_train)\n",
    "X_test_6 = poly.fit_transform(X_test)\n",
    "X_val_6 = poly.fit_transform(X_val)"
   ]
  },
  {
   "cell_type": "code",
   "execution_count": 13,
   "metadata": {
    "collapsed": true
   },
   "outputs": [],
   "source": [
    "#Function to calculate loss\n",
    "def  lossfunc(x_,w_,y_):\n",
    "    m = len(y_)\n",
    "    return (0.5/m)*np.sum((w_.dot(x_.T)-y_)**2)"
   ]
  },
  {
   "cell_type": "code",
   "execution_count": 14,
   "metadata": {
    "collapsed": true
   },
   "outputs": [],
   "source": [
    "#Function to calculate Rsquared and RMS\n",
    "def RSq_RMS(w,x,y):\n",
    "    RSS =  pow(w.dot(x.T) - y,2).sum()\n",
    "    TSS =  pow(y - y.mean(),2).sum()\n",
    "    n = len(y)\n",
    "    rs = 1 - (RSS/TSS)\n",
    "    RMS = pow(RSS/n,0.5)\n",
    "    return [rs,RMS]"
   ]
  },
  {
   "cell_type": "code",
   "execution_count": 120,
   "metadata": {},
   "outputs": [
    {
     "name": "stdout",
     "output_type": "stream",
     "text": [
      "[0 1 1 1 1 1]\n",
      "iteration: 0 loss : 8.63704844459141\n",
      "iteration: 20 loss : 4.208056092329959\n",
      "iteration: 40 loss : 2.387360829006685\n",
      "iteration: 60 loss : 1.5823928792612274\n",
      "iteration: 80 loss : 1.189309147739154\n",
      "iteration: 100 loss : 0.9741864954786608\n",
      "iteration: 120 loss : 0.8430683722745386\n",
      "iteration: 140 loss : 0.7560080542713203\n",
      "iteration: 160 loss : 0.694599896027197\n",
      "iteration: 180 loss : 0.649489058059575\n",
      "iteration: 200 loss : 0.6154171006553067\n",
      "iteration: 220 loss : 0.589159123757582\n",
      "iteration: 240 loss : 0.5686027781786506\n",
      "iteration: 260 loss : 0.5522992631126507\n",
      "iteration: 280 loss : 0.5392227694907463\n",
      "iteration: 300 loss : 0.528630099955438\n",
      "iteration: 320 loss : 0.5199730793857119\n",
      "iteration: 340 loss : 0.5128412495410353\n",
      "iteration: 360 loss : 0.5069231459546572\n",
      "iteration: 380 loss : 0.5019795354472948\n",
      "iteration: 400 loss : 0.4978246041763988\n",
      "iteration: 420 loss : 0.49431254725363966\n",
      "iteration: 440 loss : 0.4913278865660305\n",
      "iteration: 460 loss : 0.4887783946310407\n",
      "iteration: 480 loss : 0.48658986079454974\n",
      "iteration: 500 loss : 0.4847021741731798\n",
      "iteration: 520 loss : 0.48306635809402215\n",
      "iteration: 540 loss : 0.48164229986566387\n",
      "iteration: 560 loss : 0.48039699452462636\n",
      "iteration: 580 loss : 0.47930317289399665\n",
      "iteration: 600 loss : 0.47833822028112005\n",
      "iteration: 620 loss : 0.47748331740094896\n",
      "iteration: 640 loss : 0.47672275299537753\n",
      "iteration: 660 loss : 0.4760433704007466\n",
      "iteration: 680 loss : 0.47543411954441883\n",
      "iteration: 700 loss : 0.47488569258657104\n",
      "iteration: 720 loss : 0.47439022639392375\n",
      "iteration: 740 loss : 0.4739410587421441\n",
      "iteration: 760 loss : 0.4735325279441473\n",
      "iteration: 780 loss : 0.47315980773869964\n",
      "iteration: 800 loss : 0.4728187709217893\n",
      "iteration: 820 loss : 0.4725058764865133\n",
      "iteration: 840 loss : 0.4722180760453755\n",
      "iteration: 860 loss : 0.47195273610726707\n",
      "iteration: 880 loss : 0.4717075734181171\n",
      "iteration: 900 loss : 0.4714806010851568\n",
      "iteration: 920 loss : 0.47127008361696826\n",
      "iteration: 940 loss : 0.4710744993455693\n",
      "[-0.01708432 -0.19753243  0.09133162  0.10155939 -0.03049482 -0.10365389]\n"
     ]
    }
   ],
   "source": [
    "# Gradient Descent - polynomial of degree 2\n",
    "\n",
    "alpha =0.005\n",
    "itns = 1000\n",
    "counter = 0\n",
    "losses_2 = []\n",
    "stop_criterion = True\n",
    "w = np.array([0,1,1,1,1,1])\n",
    "print(w)\n",
    "while(stop_criterion):\n",
    "    y_hat = w.dot(X_train_2.T)\n",
    "    loss_ = lossfunc(X_train_2,w,y_train)\n",
    "    losses_2.append(loss_)\n",
    "    if counter%20 == 0:\n",
    "        print(\"iteration: {} loss : {}\" .format(counter,loss_))\n",
    "    w_der = (y_hat-y_train)*(X_train_2.T)\n",
    "    w_der_norm = np.mean(w_der, axis = 1)\n",
    "    w = w - alpha*w_der_norm\n",
    "    if(counter > 100):\n",
    "        if (abs((losses_2[counter] - losses_2[counter-1])/losses_2[counter]) < 0.00002):\n",
    "            stop_criterion = False\n",
    "    counter = counter+1\n",
    "    \n",
    "print(w)"
   ]
  },
  {
   "cell_type": "code",
   "execution_count": 121,
   "metadata": {},
   "outputs": [
    {
     "data": {
      "text/plain": [
       "[0.053261679601786072, 0.9757228534118132]"
      ]
     },
     "execution_count": 121,
     "metadata": {},
     "output_type": "execute_result"
    }
   ],
   "source": [
    "RSq_RMS(w,X_test_2,y_test)"
   ]
  },
  {
   "cell_type": "code",
   "execution_count": 122,
   "metadata": {},
   "outputs": [
    {
     "name": "stdout",
     "output_type": "stream",
     "text": [
      "0.476017543335\n"
     ]
    }
   ],
   "source": [
    "# Gradient Descent for testing\n",
    "\n",
    "loss_gd_test = lossfunc(X_test_2, w, y_test)\n",
    "print(loss_gd_test)"
   ]
  },
  {
   "cell_type": "code",
   "execution_count": 123,
   "metadata": {},
   "outputs": [
    {
     "data": {
      "image/png": "[encoded data removed]",
      "text/plain": [
       "<matplotlib.figure.Figure at 0x10cb28b70>"
      ]
     },
     "metadata": {},
     "output_type": "display_data"
    }
   ],
   "source": [
    "plt.plot(losses_2, 'b')\n",
    "plt.xlabel('Iterations')\n",
    "plt.ylabel('Loss')\n",
    "plt.title('Loss Funciton')\n",
    "plt.show()"
   ]
  },
  {
   "cell_type": "code",
   "execution_count": 124,
   "metadata": {},
   "outputs": [
    {
     "name": "stdout",
     "output_type": "stream",
     "text": [
      "[0 1 1 1 1 1 1 1 1 1]\n",
      "iteration: 0 loss : 45.154179295596194\n",
      "iteration: 20 loss : 4.985522531252451\n",
      "iteration: 40 loss : 1.6243112173640046\n",
      "iteration: 60 loss : 0.9648930783657699\n",
      "iteration: 80 loss : 0.7488724007810661\n",
      "iteration: 100 loss : 0.6514714203369698\n",
      "iteration: 120 loss : 0.5972573043965993\n",
      "iteration: 140 loss : 0.5631001843730311\n",
      "iteration: 160 loss : 0.539869758849983\n",
      "iteration: 180 loss : 0.5231706892150775\n",
      "iteration: 200 loss : 0.5106178991360313\n",
      "iteration: 220 loss : 0.5008270008746255\n",
      "iteration: 240 loss : 0.49295741430107953\n",
      "iteration: 260 loss : 0.4864785184286935\n",
      "iteration: 280 loss : 0.48104220597514774\n",
      "iteration: 300 loss : 0.4764110894552908\n",
      "iteration: 320 loss : 0.47241712486236065\n",
      "iteration: 340 loss : 0.4689372410050272\n",
      "iteration: 360 loss : 0.46587862565487487\n",
      "iteration: 380 loss : 0.4631695798150475\n",
      "iteration: 400 loss : 0.4607536413138947\n",
      "iteration: 420 loss : 0.45858567174318077\n",
      "iteration: 440 loss : 0.45662915530083764\n",
      "iteration: 460 loss : 0.4548542699961989\n",
      "iteration: 480 loss : 0.45323646862163475\n",
      "iteration: 500 loss : 0.45175540843999895\n",
      "iteration: 520 loss : 0.45039412771280146\n",
      "iteration: 540 loss : 0.4491384023746232\n",
      "iteration: 560 loss : 0.4479762376055539\n",
      "iteration: 580 loss : 0.44689746252442797\n",
      "iteration: 600 loss : 0.4458934049770304\n",
      "iteration: 620 loss : 0.4449566292841679\n",
      "iteration: 640 loss : 0.44408072392040526\n",
      "iteration: 660 loss : 0.44326012904922063\n",
      "iteration: 680 loss : 0.44248999602649725\n",
      "iteration: 700 loss : 0.4417660726385078\n",
      "iteration: 720 loss : 0.44108460911454217\n",
      "iteration: 740 loss : 0.4404422809486075\n",
      "iteration: 760 loss : 0.4398361253482623\n",
      "iteration: 780 loss : 0.4392634887506509\n",
      "iteration: 800 loss : 0.43872198334206525\n",
      "iteration: 820 loss : 0.43820945091473396\n",
      "iteration: 840 loss : 0.43772393271359067\n",
      "iteration: 860 loss : 0.4372636441824312\n",
      "iteration: 880 loss : 0.43682695372562946\n",
      "iteration: 900 loss : 0.4364123647683683\n",
      "iteration: 920 loss : 0.4360185005329631\n",
      "iteration: 940 loss : 0.4356440910576451\n",
      "iteration: 960 loss : 0.43528796207213405\n",
      "iteration: 980 loss : 0.4349490254155079\n",
      "iteration: 1000 loss : 0.4346262707395106\n",
      "iteration: 1020 loss : 0.4343187582871619\n",
      "iteration: 1040 loss : 0.4340256125744141\n",
      "iteration: 1060 loss : 0.4337460168333696\n",
      "iteration: 1080 loss : 0.43347920810056845\n",
      "iteration: 1100 loss : 0.43322447285419446\n",
      "iteration: 1120 loss : 0.4329811431206197\n",
      "iteration: 1140 loss : 0.4327485929842205\n",
      "iteration: 1160 loss : 0.43252623544543495\n",
      "iteration: 1180 loss : 0.4323135195810741\n",
      "iteration: 1200 loss : 0.43210992796830017\n",
      "iteration: 1220 loss : 0.43191497433977055\n",
      "iteration: 1240 loss : 0.43172820144245794\n",
      "iteration: 1260 loss : 0.4315491790767895\n",
      "[-0.03067533  0.21623927  0.33670402  0.14717872  0.11110964 -0.22126148\n",
      " -0.28117897 -0.01210167  0.31371421 -0.23829255]\n"
     ]
    }
   ],
   "source": [
    "# Gradient Descent - polynomial of degree 3\n",
    "\n",
    "alpha =0.005\n",
    "itns = 1000\n",
    "counter = 0\n",
    "losses_3 = []\n",
    "stop_criterion = True\n",
    "w = np.array([0,1,1,1,1,1,1,1,1,1])\n",
    "print(w)\n",
    "while(stop_criterion):\n",
    "    y_hat = w.dot(X_train_3.T)\n",
    "    loss_ = lossfunc(X_train_3,w,y_train)\n",
    "    losses_3.append(loss_)\n",
    "    if counter%20 == 0:\n",
    "        print(\"iteration: {} loss : {}\" .format(counter,loss_))\n",
    "    w_der = (y_hat-y_train)*(X_train_3.T)\n",
    "    w_der_norm = np.mean(w_der, axis = 1)\n",
    "    w = w - alpha*w_der_norm\n",
    "    if(counter > 100):\n",
    "        if (abs((losses_3[counter] - losses_3[counter-1])/losses_3[counter]) < 0.00002):\n",
    "            stop_criterion = False\n",
    "    counter = counter+1\n",
    "    \n",
    "print(w)"
   ]
  },
  {
   "cell_type": "code",
   "execution_count": 125,
   "metadata": {},
   "outputs": [
    {
     "data": {
      "text/plain": [
       "[0.13601122909368912, 0.93210652500486935]"
      ]
     },
     "execution_count": 125,
     "metadata": {},
     "output_type": "execute_result"
    }
   ],
   "source": [
    "RSq_RMS(w,X_test_3,y_test)"
   ]
  },
  {
   "cell_type": "code",
   "execution_count": 126,
   "metadata": {},
   "outputs": [
    {
     "name": "stdout",
     "output_type": "stream",
     "text": [
      "0.434411286978\n"
     ]
    }
   ],
   "source": [
    "# Gradient Descent for testing\n",
    "\n",
    "loss_gd_test = lossfunc(X_test_3, w, y_test)\n",
    "print(loss_gd_test)"
   ]
  },
  {
   "cell_type": "code",
   "execution_count": 151,
   "metadata": {},
   "outputs": [
    {
     "data": {
      "image/png": "[encoded data removed]",
      "text/plain": [
       "<matplotlib.figure.Figure at 0x10cbd9940>"
      ]
     },
     "metadata": {},
     "output_type": "display_data"
    }
   ],
   "source": [
    "plt.plot(losses_3, 'g')\n",
    "plt.xlabel('Iterations')\n",
    "plt.ylabel('Loss')\n",
    "plt.title('Loss Funciton')\n",
    "plt.show()"
   ]
  },
  {
   "cell_type": "code",
   "execution_count": 51,
   "metadata": {},
   "outputs": [
    {
     "name": "stdout",
     "output_type": "stream",
     "text": [
      "[0 1 1 1 1 1 1 1 1 1 1 1 1 1 1]\n",
      "iteration: 0 loss : 201.41809449504774\n",
      "iteration: 20 loss : 3.460461838379856\n",
      "iteration: 40 loss : 1.251310129094166\n",
      "iteration: 60 loss : 0.8113130484255311\n",
      "iteration: 80 loss : 0.6851720563303976\n",
      "iteration: 100 loss : 0.628637466459688\n",
      "iteration: 120 loss : 0.5937025825581457\n",
      "iteration: 140 loss : 0.5687078482861578\n",
      "iteration: 160 loss : 0.5496026603896431\n",
      "iteration: 180 loss : 0.5344201905289646\n",
      "iteration: 200 loss : 0.5220119114263525\n",
      "iteration: 220 loss : 0.5116485512680945\n",
      "iteration: 240 loss : 0.5028445923469884\n",
      "iteration: 260 loss : 0.4952643444412047\n",
      "iteration: 280 loss : 0.48866735885576607\n",
      "iteration: 300 loss : 0.48287557176730544\n",
      "iteration: 320 loss : 0.47775308760092705\n",
      "iteration: 340 loss : 0.4731934745447235\n",
      "iteration: 360 loss : 0.4691115856957781\n",
      "iteration: 380 loss : 0.46543814399465333\n",
      "iteration: 400 loss : 0.462116043105455\n",
      "iteration: 420 loss : 0.4590977358577572\n",
      "iteration: 440 loss : 0.4563433294652597\n",
      "iteration: 460 loss : 0.4538191536035352\n",
      "iteration: 480 loss : 0.4514966550924417\n",
      "iteration: 500 loss : 0.44935152569665354\n",
      "iteration: 520 loss : 0.4473630016831393\n",
      "iteration: 540 loss : 0.44551329362763953\n",
      "iteration: 560 loss : 0.44378711746914257\n",
      "iteration: 580 loss : 0.44217130587930215\n",
      "iteration: 600 loss : 0.4406544843654144\n",
      "iteration: 620 loss : 0.43922680018755744\n",
      "iteration: 640 loss : 0.43787969475927535\n",
      "iteration: 660 loss : 0.43660571209085336\n",
      "iteration: 680 loss : 0.4353983372549988\n",
      "iteration: 700 loss : 0.43425185995082294\n",
      "iteration: 720 loss : 0.4331612591058861\n",
      "iteration: 740 loss : 0.432122105148499\n",
      "iteration: 760 loss : 0.4311304771447949\n",
      "iteration: 780 loss : 0.430182892456185\n",
      "iteration: 800 loss : 0.4292762469536507\n",
      "iteration: 820 loss : 0.4284077641414908\n",
      "iteration: 840 loss : 0.4275749518066382\n",
      "iteration: 860 loss : 0.42677556502982655\n",
      "iteration: 880 loss : 0.42600757457923294\n",
      "iteration: 900 loss : 0.425269139861789\n",
      "iteration: 920 loss : 0.4245585857370917\n",
      "iteration: 940 loss : 0.42387438260783294\n",
      "iteration: 960 loss : 0.4232151292922848\n",
      "iteration: 980 loss : 0.42257953826143163\n",
      "iteration: 1000 loss : 0.4219664228881818\n",
      "iteration: 1020 loss : 0.421374686410674\n",
      "iteration: 1040 loss : 0.42080331235765533\n",
      "iteration: 1060 loss : 0.4202513562226503\n",
      "iteration: 1080 loss : 0.41971793820625763\n",
      "iteration: 1100 loss : 0.419202236873463\n",
      "iteration: 1120 loss : 0.41870348359605003\n",
      "iteration: 1140 loss : 0.4182209576698026\n",
      "iteration: 1160 loss : 0.4177539820127299\n",
      "iteration: 1180 loss : 0.4173019193645329\n",
      "iteration: 1200 loss : 0.41686416891934247\n",
      "iteration: 1220 loss : 0.41644016333376316\n",
      "iteration: 1240 loss : 0.416029366060711\n",
      "iteration: 1260 loss : 0.41563126896671687\n",
      "iteration: 1280 loss : 0.4152453901964258\n",
      "iteration: 1300 loss : 0.4148712722531979\n",
      "iteration: 1320 loss : 0.4145084802690842\n",
      "iteration: 1340 loss : 0.4141566004411798\n",
      "iteration: 1360 loss : 0.41381523861452474\n",
      "iteration: 1380 loss : 0.41348401899442033\n",
      "iteration: 1400 loss : 0.413162582973337\n",
      "iteration: 1420 loss : 0.4128505880595499\n",
      "iteration: 1440 loss : 0.4125477068963262\n",
      "iteration: 1460 loss : 0.4122536263619251\n",
      "iteration: 1480 loss : 0.4119680467419118\n",
      "iteration: 1500 loss : 0.4116906809663425\n",
      "iteration: 1520 loss : 0.4114212539052971\n",
      "iteration: 1540 loss : 0.41115950171702104\n",
      "iteration: 1560 loss : 0.41090517124361786\n",
      "iteration: 1580 loss : 0.4106580194498255\n",
      "iteration: 1600 loss : 0.4104178129009169\n",
      "iteration: 1620 loss : 0.41018432727621085\n",
      "iteration: 1640 loss : 0.4099573469150652\n",
      "iteration: 1660 loss : 0.40973666439256023\n",
      "iteration: 1680 loss : 0.40952208012237745\n",
      "iteration: 1700 loss : 0.40931340198463323\n",
      "iteration: 1720 loss : 0.4091104449766588\n",
      "iteration: 1740 loss : 0.4089130308849131\n",
      "iteration: 1760 loss : 0.40872098797639334\n",
      "iteration: 1780 loss : 0.40853415070806726\n",
      "iteration: 1800 loss : 0.40835235945298193\n",
      "iteration: 1820 loss : 0.4081754602418355\n",
      "iteration: 1840 loss : 0.40800330451889955\n",
      "iteration: 1860 loss : 0.40783574891128693\n",
      "[-0.20985387 -0.01828723  0.39144617  0.44772768  0.25421582 -0.04478777\n",
      " -0.15225359  0.01603851  0.23431145 -0.22506454 -0.07321597 -0.00181269\n",
      " -0.2591772   0.11508932 -0.04785295]\n"
     ]
    }
   ],
   "source": [
    "# Gradient Descent - polynomial of degree 4\n",
    "\n",
    "alpha =0.005\n",
    "itns = 1000\n",
    "counter = 0\n",
    "losses_4 = []\n",
    "stop_criterion = True\n",
    "w = np.array([0,1,1,1,1,1,1,1,1,1,1,1,1,1,1])\n",
    "print(w)\n",
    "while(stop_criterion):\n",
    "    y_hat = w.dot(X_train_4.T)\n",
    "    loss_ = lossfunc(X_train_4,w,y_train)\n",
    "    losses_4.append(loss_)\n",
    "    if counter%20 == 0:\n",
    "        print(\"iteration: {} loss : {}\" .format(counter,loss_))\n",
    "    w_der = (y_hat-y_train)*(X_train_4.T)\n",
    "    w_der_norm = np.mean(w_der, axis = 1)\n",
    "    w = w - alpha*w_der_norm\n",
    "    if(counter > 100):\n",
    "        if (abs((losses_4[counter] - losses_4[counter-1])/losses_4[counter]) < 0.00002):\n",
    "            stop_criterion = False\n",
    "    counter = counter+1\n",
    "    \n",
    "print(w)"
   ]
  },
  {
   "cell_type": "code",
   "execution_count": 52,
   "metadata": {},
   "outputs": [
    {
     "data": {
      "text/plain": [
       "[0.18676823314659285, 0.90020494065695589]"
      ]
     },
     "execution_count": 52,
     "metadata": {},
     "output_type": "execute_result"
    }
   ],
   "source": [
    "RSq_RMS(w,X_test_4,y_test)"
   ]
  },
  {
   "cell_type": "code",
   "execution_count": 53,
   "metadata": {},
   "outputs": [
    {
     "name": "stdout",
     "output_type": "stream",
     "text": [
      "0.405184467592\n"
     ]
    }
   ],
   "source": [
    "# Gradient Descent for testing\n",
    "\n",
    "loss_gd_test = lossfunc(X_test_4, w, y_test)\n",
    "print(loss_gd_test)"
   ]
  },
  {
   "cell_type": "code",
   "execution_count": 56,
   "metadata": {},
   "outputs": [
    {
     "data": {
      "image/png": "[encoded data removed]",
      "text/plain": [
       "<matplotlib.figure.Figure at 0x1a1ef91748>"
      ]
     },
     "metadata": {},
     "output_type": "display_data"
    }
   ],
   "source": [
    "plt.plot(losses_4[20:], 'r')\n",
    "plt.xlabel('Iterations')\n",
    "plt.ylabel('Loss')\n",
    "plt.title('Loss Funciton')\n",
    "plt.show()"
   ]
  },
  {
   "cell_type": "code",
   "execution_count": 142,
   "metadata": {},
   "outputs": [
    {
     "name": "stdout",
     "output_type": "stream",
     "text": [
      "[0 1 1 1 1 1 1 1 1 1 1 1 1 1 1 1 1 1 1 1 1]\n",
      "iteration: 0 loss : 934.3557487424149\n",
      "iteration: 20 loss : 3.8303640831444468\n",
      "iteration: 40 loss : 2.65760167942102\n",
      "iteration: 60 loss : 2.026595242812893\n",
      "iteration: 80 loss : 1.5992509341530368\n",
      "iteration: 100 loss : 1.29265057865178\n",
      "iteration: 120 loss : 1.0691340456659622\n",
      "iteration: 140 loss : 0.9053039438169879\n",
      "iteration: 160 loss : 0.7848569206728668\n",
      "iteration: 180 loss : 0.6960589325031242\n",
      "iteration: 200 loss : 0.6303898607004342\n",
      "iteration: 220 loss : 0.581645881047922\n",
      "iteration: 240 loss : 0.5453037880199528\n",
      "iteration: 260 loss : 0.5180625093331962\n",
      "iteration: 280 loss : 0.4975107011617057\n",
      "iteration: 300 loss : 0.48188530326247253\n",
      "iteration: 320 loss : 0.4698959836519227\n",
      "iteration: 340 loss : 0.46059738880783263\n",
      "iteration: 360 loss : 0.45329611236075784\n",
      "iteration: 380 loss : 0.4474828979787058\n",
      "iteration: 400 loss : 0.44278319659818494\n",
      "iteration: 420 loss : 0.4389210833955218\n",
      "iteration: 440 loss : 0.4356929058137342\n",
      "iteration: 460 loss : 0.4329480244302687\n",
      "iteration: 480 loss : 0.43057472722266715\n",
      "iteration: 500 loss : 0.4284899197773427\n",
      "iteration: 520 loss : 0.42663157333617974\n",
      "iteration: 540 loss : 0.4249531884551588\n",
      "iteration: 560 loss : 0.4234197328165795\n",
      "iteration: 580 loss : 0.42200465793917236\n",
      "iteration: 600 loss : 0.4206877060677007\n",
      "iteration: 620 loss : 0.419453296207178\n",
      "iteration: 640 loss : 0.41828933494743775\n",
      "iteration: 660 loss : 0.41718633910631764\n",
      "iteration: 680 loss : 0.41613678745232574\n",
      "iteration: 700 loss : 0.4151346408685641\n",
      "iteration: 720 loss : 0.4141749864863774\n",
      "iteration: 740 loss : 0.41325377315060396\n",
      "iteration: 760 loss : 0.41236761424548785\n",
      "iteration: 780 loss : 0.41151364026257103\n",
      "iteration: 800 loss : 0.41068938815057404\n",
      "iteration: 820 loss : 0.409892717906185\n",
      "iteration: 840 loss : 0.40912174937545304\n",
      "iteration: 860 loss : 0.4083748140806177\n",
      "iteration: 880 loss : 0.407650418244133\n",
      "iteration: 900 loss : 0.40694721418028096\n",
      "iteration: 920 loss : 0.4062639779602704\n",
      "iteration: 940 loss : 0.4055995917988618\n",
      "iteration: 960 loss : 0.40495303001050004\n",
      "iteration: 980 loss : 0.40432334767826056\n",
      "iteration: 1000 loss : 0.40370967139717\n",
      "iteration: 1020 loss : 0.4031111916149587\n",
      "iteration: 1040 loss : 0.4025271562129134\n",
      "iteration: 1060 loss : 0.4019568650582192\n",
      "iteration: 1080 loss : 0.40139966532507654\n",
      "iteration: 1100 loss : 0.4008549474308904\n",
      "iteration: 1120 loss : 0.4003221414703844\n",
      "iteration: 1140 loss : 0.3998007140577717\n",
      "iteration: 1160 loss : 0.3992901655075613\n",
      "iteration: 1180 loss : 0.3987900272999266\n",
      "iteration: 1200 loss : 0.3982998597881382\n",
      "iteration: 1220 loss : 0.39781925011430547\n",
      "iteration: 1240 loss : 0.3973478103063444\n",
      "iteration: 1260 loss : 0.3968851755341591\n",
      "iteration: 1280 loss : 0.39643100250695656\n",
      "iteration: 1300 loss : 0.3959849679966334\n",
      "iteration: 1320 loss : 0.39554676747455136\n",
      "iteration: 1340 loss : 0.39511611385088774\n",
      "iteration: 1360 loss : 0.3946927363072295\n",
      "iteration: 1380 loss : 0.394276379214288\n",
      "iteration: 1400 loss : 0.3938668011275772\n",
      "iteration: 1420 loss : 0.39346377385471587\n",
      "iteration: 1440 loss : 0.3930670815886762\n",
      "iteration: 1460 loss : 0.3926765201018746\n",
      "iteration: 1480 loss : 0.3922918959964854\n",
      "iteration: 1500 loss : 0.3919130260067739\n",
      "iteration: 1520 loss : 0.39153973634961575\n",
      "iteration: 1540 loss : 0.39117186211969085\n",
      "iteration: 1560 loss : 0.39080924672612094\n",
      "iteration: 1580 loss : 0.39045174136758815\n",
      "iteration: 1600 loss : 0.3900992045431873\n",
      "iteration: 1620 loss : 0.38975150159648825\n",
      "iteration: 1640 loss : 0.38940850429046475\n",
      "iteration: 1660 loss : 0.38907009041112267\n",
      "iteration: 1680 loss : 0.3887361433978224\n",
      "iteration: 1700 loss : 0.3884065519984308\n",
      "iteration: 1720 loss : 0.3880812099475759\n",
      "iteration: 1740 loss : 0.38776001566640234\n",
      "iteration: 1760 loss : 0.3874428719823348\n",
      "iteration: 1780 loss : 0.3871296858674707\n",
      "iteration: 1800 loss : 0.3868203681943111\n",
      "iteration: 1820 loss : 0.38651483350763854\n",
      "iteration: 1840 loss : 0.3862129998114323\n",
      "iteration: 1860 loss : 0.38591478836978255\n",
      "iteration: 1880 loss : 0.3856201235208496\n",
      "iteration: 1900 loss : 0.3853289325029705\n",
      "iteration: 1920 loss : 0.3850411452920843\n",
      "iteration: 1940 loss : 0.38475669444970245\n",
      "iteration: 1960 loss : 0.38447551498070553\n",
      "iteration: 1980 loss : 0.3841975442002964\n",
      "iteration: 2000 loss : 0.3839227216094899\n",
      "iteration: 2020 loss : 0.3836509887785566\n",
      "iteration: 2040 loss : 0.3833822892378835\n",
      "iteration: 2060 loss : 0.38311656837574914\n",
      "iteration: 2080 loss : 0.38285377334254805\n",
      "iteration: 2100 loss : 0.3825938529610266\n",
      "iteration: 2120 loss : 0.38233675764212827\n",
      "iteration: 2140 loss : 0.38208243930607166\n",
      "iteration: 2160 loss : 0.38183085130830824\n",
      "iteration: 2180 loss : 0.3815819483700354\n",
      "iteration: 2200 loss : 0.3813356865129616\n",
      "iteration: 2220 loss : 0.3810920229980379\n",
      "iteration: 2240 loss : 0.3808509162678926\n",
      "iteration: 2260 loss : 0.38061232589272653\n",
      "iteration: 2280 loss : 0.38037621251943665\n",
      "iteration: 2300 loss : 0.3801425378237564\n",
      "iteration: 2320 loss : 0.37991126446521506\n",
      "iteration: 2340 loss : 0.3796823560447294\n",
      "iteration: 2360 loss : 0.3794557770646567\n",
      "iteration: 2380 loss : 0.3792314928911497\n",
      "iteration: 2400 loss : 0.3790094697186592\n",
      "iteration: 2420 loss : 0.3787896745364518\n",
      "iteration: 2440 loss : 0.37857207509700674\n",
      "iteration: 2460 loss : 0.3783566398861743\n",
      "iteration: 2480 loss : 0.37814333809498085\n",
      "iteration: 2500 loss : 0.37793213959297683\n",
      "iteration: 2520 loss : 0.3777230149030279\n",
      "iteration: 2540 loss : 0.377515935177459\n",
      "iteration: 2560 loss : 0.3773108721754654\n",
      "iteration: 2580 loss : 0.3771077982417108\n",
      "iteration: 2600 loss : 0.37690668628603824\n",
      "iteration: 2620 loss : 0.3767075097642256\n",
      "iteration: 2640 loss : 0.3765102426597183\n",
      "iteration: 2660 loss : 0.37631485946628224\n",
      "iteration: 2680 loss : 0.37612133517151763\n",
      "iteration: 2700 loss : 0.3759296452411828\n",
      "iteration: 2720 loss : 0.3757397656042781\n",
      "iteration: 2740 loss : 0.3755516726388449\n",
      "iteration: 2760 loss : 0.37536534315843434\n",
      "iteration: 2780 loss : 0.3751807543992098\n",
      "iteration: 2800 loss : 0.37499788400764167\n",
      "iteration: 2820 loss : 0.37481671002876144\n",
      "iteration: 2840 loss : 0.3746372108949433\n",
      "iteration: 2860 loss : 0.37445936541517916\n",
      "iteration: 2880 loss : 0.3742831527648243\n",
      "iteration: 2900 loss : 0.374108552475779\n",
      "iteration: 2920 loss : 0.37393554442708915\n",
      "iteration: 2940 loss : 0.3737641088359381\n",
      "iteration: 2960 loss : 0.37359422624900634\n",
      "iteration: 2980 loss : 0.37342587753418394\n",
      "iteration: 3000 loss : 0.37325904387261105\n",
      "iteration: 3020 loss : 0.3730937067510317\n",
      "iteration: 3040 loss : 0.372929847954442\n",
      "iteration: 3060 loss : 0.3727674495590202\n",
      "iteration: 3080 loss : 0.3726064939253182\n",
      "iteration: 3100 loss : 0.3724469636917083\n",
      "iteration: 3120 loss : 0.37228884176806293\n",
      "iteration: 3140 loss : 0.37213211132966445\n",
      "iteration: 3160 loss : 0.37197675581132644\n",
      "iteration: 3180 loss : 0.3718227589017192\n",
      "iteration: 3200 loss : 0.37167010453788923\n",
      "iteration: 3220 loss : 0.3715187768999606\n",
      "iteration: 3240 loss : 0.3713687604060133\n",
      "[-0.19665934 -0.00297458  0.47968363  0.62324944  0.37073901 -0.07755835\n",
      " -0.4648351   0.12617966  0.35631962 -0.35321676 -0.14354345 -0.11014372\n",
      " -0.30736302  0.12791793 -0.05045137  0.11958591 -0.00747242  0.0949524\n",
      " -0.33076542  0.13213912  0.00873359]\n"
     ]
    }
   ],
   "source": [
    "# Gradient Descent - polynomial of degree 5\n",
    "\n",
    "alpha =0.005\n",
    "itns = 1000\n",
    "counter = 0\n",
    "losses_5 = []\n",
    "stop_criterion = True\n",
    "w = np.array([0,1,1,1,1,1,1,1,1,1,1,1,1,1,1,1,1,1,1,1,1])\n",
    "print(w)\n",
    "while(stop_criterion):\n",
    "    y_hat = w.dot(X_train_5.T)\n",
    "    loss_ = lossfunc(X_train_5,w,y_train)\n",
    "    losses_5.append(loss_)\n",
    "    if counter%20 == 0:\n",
    "        print(\"iteration: {} loss : {}\" .format(counter,loss_))\n",
    "    w_der = (y_hat-y_train)*(X_train_5.T)\n",
    "    w_der_norm = np.mean(w_der, axis = 1)\n",
    "    w = w - alpha*w_der_norm\n",
    "    if(counter > 100):\n",
    "        if (abs((losses_5[counter] - losses_5[counter-1])/losses_5[counter]) < 0.00002):\n",
    "            stop_criterion = False\n",
    "    counter = counter+1\n",
    "    \n",
    "print(w)"
   ]
  },
  {
   "cell_type": "code",
   "execution_count": 143,
   "metadata": {},
   "outputs": [
    {
     "data": {
      "text/plain": [
       "[0.25365117467964271, 0.86632814916169465]"
      ]
     },
     "execution_count": 143,
     "metadata": {},
     "output_type": "execute_result"
    }
   ],
   "source": [
    "RSq_RMS(w,X_test_5,y_test)"
   ]
  },
  {
   "cell_type": "code",
   "execution_count": 144,
   "metadata": {},
   "outputs": [
    {
     "name": "stdout",
     "output_type": "stream",
     "text": [
      "0.375262231015\n"
     ]
    }
   ],
   "source": [
    "# Gradient Descent for testing\n",
    "\n",
    "loss_gd_test = lossfunc(X_test_5, w, y_test)\n",
    "print(loss_gd_test)"
   ]
  },
  {
   "cell_type": "code",
   "execution_count": 145,
   "metadata": {},
   "outputs": [
    {
     "data": {
      "image/png": "[encoded data removed]",
      "text/plain": [
       "<matplotlib.figure.Figure at 0x10d217358>"
      ]
     },
     "metadata": {},
     "output_type": "display_data"
    }
   ],
   "source": [
    "plt.plot(losses_5[10:], 'b')\n",
    "plt.xlabel('Iterations')\n",
    "plt.ylabel('Loss')\n",
    "plt.title('Loss Funciton')\n",
    "plt.show()"
   ]
  },
  {
   "cell_type": "code",
   "execution_count": 43,
   "metadata": {},
   "outputs": [
    {
     "name": "stdout",
     "output_type": "stream",
     "text": [
      "[0 1 1 1 1 1 1 1 1 1 1 1 1 1 1 1 1 1 1 1 1 1 1 1 1 1 1 1]\n",
      "iteration: 0 loss : 4385.383502430813\n",
      "iteration: 20 loss : 23.540161437052888\n",
      "iteration: 40 loss : 16.157947256574182\n",
      "iteration: 60 loss : 12.67834396764375\n",
      "iteration: 80 loss : 10.470084804365245\n",
      "iteration: 100 loss : 8.86775306259559\n",
      "iteration: 120 loss : 7.608908536348567\n",
      "iteration: 140 loss : 6.576837292160033\n",
      "iteration: 160 loss : 5.712483513373012\n",
      "iteration: 180 loss : 4.981058114598297\n",
      "iteration: 200 loss : 4.35893806437259\n",
      "iteration: 220 loss : 3.828351756587763\n",
      "iteration: 240 loss : 3.375095460464404\n",
      "iteration: 260 loss : 2.9874520411267818\n",
      "iteration: 280 loss : 2.655603772885946\n",
      "iteration: 300 loss : 2.3712620323633233\n",
      "iteration: 320 loss : 2.127402994355704\n",
      "iteration: 340 loss : 1.9180630700583534\n",
      "iteration: 360 loss : 1.738173262206826\n",
      "iteration: 380 loss : 1.5834218926801105\n",
      "iteration: 400 loss : 1.4501395294595576\n",
      "iteration: 420 loss : 1.3352019676315547\n",
      "iteration: 440 loss : 1.2359481864209494\n",
      "iteration: 460 loss : 1.150110853319017\n",
      "iteration: 480 loss : 1.0757573944766847\n",
      "iteration: 500 loss : 1.0112399883578143\n",
      "iteration: 520 loss : 0.9551531078704844\n",
      "iteration: 540 loss : 0.9062974551793329\n",
      "iteration: 560 loss : 0.8636493148225942\n",
      "iteration: 580 loss : 0.8263345022423937\n",
      "iteration: 600 loss : 0.7936062118953855\n",
      "iteration: 620 loss : 0.7648261759819597\n",
      "iteration: 640 loss : 0.7394486348986035\n",
      "iteration: 660 loss : 0.7170066965330741\n",
      "iteration: 680 loss : 0.6971007257531723\n",
      "iteration: 700 loss : 0.6793884597665643\n",
      "iteration: 720 loss : 0.663576591016601\n",
      "iteration: 740 loss : 0.649413598235097\n",
      "iteration: 760 loss : 0.636683639293097\n",
      "iteration: 780 loss : 0.6252013474941983\n",
      "iteration: 800 loss : 0.6148073967153658\n",
      "iteration: 820 loss : 0.6053647209684954\n",
      "iteration: 840 loss : 0.5967552910815446\n",
      "iteration: 860 loss : 0.5888773657444869\n",
      "iteration: 880 loss : 0.5816431465245522\n",
      "iteration: 900 loss : 0.5749767769587266\n",
      "iteration: 920 loss : 0.5688126347598638\n",
      "iteration: 940 loss : 0.5630938737637878\n",
      "iteration: 960 loss : 0.5577711786999054\n",
      "iteration: 980 loss : 0.5528017013579515\n",
      "iteration: 1000 loss : 0.5481481513936052\n",
      "iteration: 1020 loss : 0.5437780189887694\n",
      "iteration: 1040 loss : 0.5396629099629003\n",
      "iteration: 1060 loss : 0.5357779768084924\n",
      "iteration: 1080 loss : 0.5321014315721793\n",
      "iteration: 1100 loss : 0.5286141285868089\n",
      "iteration: 1120 loss : 0.5252992068338421\n",
      "iteration: 1140 loss : 0.5221417832256845\n",
      "iteration: 1160 loss : 0.5191286893834886\n",
      "iteration: 1180 loss : 0.5162482455809682\n",
      "iteration: 1200 loss : 0.5134900664573155\n",
      "iteration: 1220 loss : 0.5108448938965843\n",
      "iteration: 1240 loss : 0.5083044531474954\n",
      "iteration: 1260 loss : 0.5058613288340128\n",
      "iteration: 1280 loss : 0.5035088579981631\n",
      "iteration: 1300 loss : 0.5012410377350672\n",
      "iteration: 1320 loss : 0.4990524453368301\n",
      "iteration: 1340 loss : 0.49693816916595507\n",
      "iteration: 1360 loss : 0.4948937487381343\n",
      "iteration: 1380 loss : 0.4929151227152685\n",
      "iteration: 1400 loss : 0.4909985836980265\n",
      "iteration: 1420 loss : 0.48914073886802073\n",
      "iteration: 1440 loss : 0.48733847566681393\n",
      "iteration: 1460 loss : 0.4855889318160015\n",
      "iteration: 1480 loss : 0.4838894690825113\n",
      "iteration: 1500 loss : 0.4822376502785174\n",
      "iteration: 1520 loss : 0.4806312190582132\n",
      "iteration: 1540 loss : 0.47906808213586616\n",
      "iteration: 1560 loss : 0.4775462936027529\n",
      "iteration: 1580 loss : 0.4760640410659872\n",
      "iteration: 1600 loss : 0.47461963337111024\n",
      "iteration: 1620 loss : 0.4732114897035428\n",
      "iteration: 1640 loss : 0.47183812989243135\n",
      "iteration: 1660 loss : 0.47049816576476844\n",
      "iteration: 1680 loss : 0.4691902934185281\n",
      "iteration: 1700 loss : 0.4679132863014232\n",
      "iteration: 1720 loss : 0.4666659889972219\n",
      "iteration: 1740 loss : 0.46544731163471376\n",
      "iteration: 1760 loss : 0.46425622484570556\n",
      "iteration: 1780 loss : 0.46309175520813095\n",
      "iteration: 1800 loss : 0.4619529811187045\n",
      "iteration: 1820 loss : 0.4608390290467246\n",
      "iteration: 1840 loss : 0.4597490701268273\n",
      "iteration: 1860 loss : 0.45868231705381196\n",
      "iteration: 1880 loss : 0.4576380212472762\n",
      "iteration: 1900 loss : 0.45661547025776494\n",
      "iteration: 1920 loss : 0.4556139853895872\n",
      "iteration: 1940 loss : 0.454632919518424\n",
      "iteration: 1960 loss : 0.45367165508444846\n",
      "iteration: 1980 loss : 0.4527296022439076\n",
      "[-0.3506561   0.125502    0.30517649  0.31591793  0.25913609  0.23925221\n",
      " -0.12072364  0.1314396   0.18952089  0.04238714 -0.20701978 -0.09210453\n",
      " -0.00824949  0.05682974 -0.05474971 -0.02536622 -0.05922901 -0.02296317\n",
      " -0.08701066 -0.01450924 -0.03856217  0.07760963  0.03694522 -0.10235974\n",
      " -0.01767237 -0.03763409  0.00759312 -0.0065352 ]\n"
     ]
    }
   ],
   "source": [
    "# Gradient Descent - polynomial of degree 6\n",
    "\n",
    "alpha =0.001\n",
    "itns = 2000\n",
    "counter = 0\n",
    "losses_6 = []\n",
    "stop_criterion = True\n",
    "w_6 = np.array([0,1,1,1,1,1,1,1,1,1,1,1,1,1,1,1,1,1,1,1,1,1,1,1,1,1,1,1])\n",
    "print(w_6)\n",
    "#while(stop_criterion):\n",
    "for i in range(itns):\n",
    "    y_hat = w_6.dot(X_train_6.T)\n",
    "    loss_ = lossfunc(X_train_6,w_6,y_train)\n",
    "    losses_6.append(loss_)\n",
    "    if counter%20 == 0:\n",
    "        print(\"iteration: {} loss : {}\" .format(counter,loss_))\n",
    "    w_der = (y_hat-y_train)*(X_train_6.T)\n",
    "    w_der_norm = np.mean(w_der, axis = 1)\n",
    "    w_6 = w_6 - alpha*w_der_norm\n",
    "    if(counter > 100):\n",
    "        if (abs((losses_6[counter] - losses_6[counter-1])/losses_6[counter]) < 0.000008):\n",
    "            stop_criterion = False\n",
    "    counter = counter+1\n",
    "    \n",
    "print(w_6)"
   ]
  },
  {
   "cell_type": "code",
   "execution_count": 44,
   "metadata": {},
   "outputs": [
    {
     "data": {
      "text/plain": [
       "[0.099724464532058188, 0.94715694705120557]"
      ]
     },
     "execution_count": 44,
     "metadata": {},
     "output_type": "execute_result"
    }
   ],
   "source": [
    "RSq_RMS(w_6,X_test_6,y_test)"
   ]
  },
  {
   "cell_type": "code",
   "execution_count": 45,
   "metadata": {},
   "outputs": [
    {
     "data": {
      "text/plain": [
       "[0.097748425280967943, 0.95058529040174122]"
      ]
     },
     "execution_count": 45,
     "metadata": {},
     "output_type": "execute_result"
    }
   ],
   "source": [
    "RSq_RMS(w_6,X_train_6,y_train)"
   ]
  },
  {
   "cell_type": "code",
   "execution_count": 46,
   "metadata": {},
   "outputs": [
    {
     "name": "stdout",
     "output_type": "stream",
     "text": [
      "0.448553141174\n"
     ]
    }
   ],
   "source": [
    "# Gradient Descent for testing\n",
    "\n",
    "loss_gd6_test = lossfunc(X_test_6, w_6, y_test)\n",
    "print(loss_gd6_test)"
   ]
  },
  {
   "cell_type": "code",
   "execution_count": 49,
   "metadata": {},
   "outputs": [
    {
     "data": {
      "image/png": "[encoded data removed]",
      "text/plain": [
       "<matplotlib.figure.Figure at 0x1a1ec0c978>"
      ]
     },
     "metadata": {},
     "output_type": "display_data"
    }
   ],
   "source": [
    "plt.plot(losses_6[5:], 'b')\n",
    "plt.xlabel('Iterations')\n",
    "plt.ylabel('Loss')\n",
    "plt.title('Loss Funciton')\n",
    "plt.show()"
   ]
  },
  {
   "cell_type": "code",
   "execution_count": 160,
   "metadata": {},
   "outputs": [
    {
     "data": {
      "text/plain": [
       "[<matplotlib.lines.Line2D at 0x10b782ba8>]"
      ]
     },
     "execution_count": 160,
     "metadata": {},
     "output_type": "execute_result"
    },
    {
     "data": {
      "image/png": "[encoded data removed]",
      "text/plain": [
       "<matplotlib.figure.Figure at 0x10b573550>"
      ]
     },
     "metadata": {},
     "output_type": "display_data"
    }
   ],
   "source": [
    "plt.plot(losses_2, 'b')\n",
    "plt.plot(losses_3[10:], 'g')\n",
    "plt.plot(losses_4[20:1500], 'r')\n",
    "plt.plot(losses_5[25:1500], 'brown')\n",
    "plt.plot(losses_6[30:1500], 'pink')"
   ]
  },
  {
   "cell_type": "code",
   "execution_count": 16,
   "metadata": {
    "collapsed": true
   },
   "outputs": [],
   "source": [
    "def  lossL1(x_,w_,y_,lambda_):\n",
    "    m = len(y_)\n",
    "    return (0.5/m)*np.sum((w_.dot(x_.T)-y_)**2)+(lambda_)*np.sum(np.abs(w_[1:]))"
   ]
  },
  {
   "cell_type": "code",
   "execution_count": 37,
   "metadata": {},
   "outputs": [
    {
     "name": "stdout",
     "output_type": "stream",
     "text": [
      "lambda: 0.1 iteration: 0 loss : 4388.083502430813\n",
      "lambda: 0.1 iteration: 20 loss : 45.29943688695835\n",
      "lambda: 0.1 iteration: 40 loss : 25.166528992065373\n",
      "lambda: 0.1 iteration: 60 loss : 20.28227803783723\n",
      "lambda: 0.1 iteration: 80 loss : 17.412906401775988\n",
      "lambda: 0.1 iteration: 100 loss : 15.34901616153323\n",
      "lambda: 0.1 iteration: 120 loss : 13.759854714427844\n",
      "lambda: 0.1 iteration: 140 loss : 12.4796195354303\n",
      "lambda: 0.1 iteration: 160 loss : 11.411285901842039\n",
      "lambda: 0.1 iteration: 180 loss : 10.49482626632237\n",
      "lambda: 0.1 iteration: 200 loss : 9.691862879588058\n",
      "lambda: 0.1 iteration: 220 loss : 8.977192460669151\n",
      "lambda: 0.1 iteration: 240 loss : 8.333803710852857\n",
      "lambda: 0.1 iteration: 260 loss : 7.749854365421868\n",
      "lambda: 0.1 iteration: 280 loss : 7.216807202930094\n",
      "lambda: 0.1 iteration: 300 loss : 6.728270135399497\n",
      "lambda: 0.1 iteration: 320 loss : 6.279523567842983\n",
      "lambda: 0.1 iteration: 340 loss : 5.868373148374601\n",
      "lambda: 0.1 iteration: 360 loss : 5.4891404360745355\n",
      "lambda: 0.1 iteration: 380 loss : 5.138996474798885\n",
      "lambda: 0.1 iteration: 400 loss : 4.815471363692103\n",
      "lambda: 0.1 iteration: 420 loss : 4.517164560225796\n",
      "lambda: 0.1 iteration: 440 loss : 4.243286284094247\n",
      "lambda: 0.1 iteration: 460 loss : 3.9898038189988987\n",
      "lambda: 0.1 iteration: 480 loss : 3.755119504651876\n",
      "lambda: 0.1 iteration: 500 loss : 3.537772548528024\n",
      "lambda: 0.1 iteration: 520 loss : 3.336422831095997\n",
      "lambda: 0.1 iteration: 540 loss : 3.1498387404299013\n",
      "lambda: 0.1 iteration: 560 loss : 2.976887115726783\n",
      "lambda: 0.1 iteration: 580 loss : 2.816524582987751\n",
      "lambda: 0.1 iteration: 600 loss : 2.6677899190971495\n",
      "lambda: 0.1 iteration: 620 loss : 2.529797227990943\n",
      "lambda: 0.1 iteration: 640 loss : 2.4017297865807414\n",
      "lambda: 0.1 iteration: 660 loss : 2.2828344600887878\n",
      "lambda: 0.1 iteration: 680 loss : 2.172416612261995\n",
      "lambda: 0.1 iteration: 700 loss : 2.0703119798196035\n",
      "lambda: 0.1 iteration: 720 loss : 1.9759540582223998\n",
      "lambda: 0.1 iteration: 740 loss : 1.8884944612826324\n",
      "lambda: 0.1 iteration: 760 loss : 1.8078854562143944\n",
      "lambda: 0.1 iteration: 780 loss : 1.7328664615571903\n",
      "lambda: 0.1 iteration: 800 loss : 1.6634751503815677\n",
      "lambda: 0.1 iteration: 820 loss : 1.6025653447299324\n",
      "lambda: 0.1 iteration: 840 loss : 1.5457065728008805\n",
      "lambda: 0.1 iteration: 860 loss : 1.4925923200330928\n",
      "lambda: 0.1 iteration: 880 loss : 1.4432249454156423\n",
      "lambda: 0.1 iteration: 900 loss : 1.3971287034019464\n",
      "lambda: 0.1 iteration: 920 loss : 1.35402269840409\n",
      "lambda: 0.1 iteration: 940 loss : 1.3140031884432932\n",
      "lambda: 0.1 iteration: 960 loss : 1.2769453640796797\n",
      "lambda: 0.1 iteration: 980 loss : 1.242195261318476\n",
      "lambda: 0.1 iteration: 1000 loss : 1.2098282295499898\n",
      "lambda: 0.1 iteration: 1020 loss : 1.180210662561798\n",
      "lambda: 0.1 iteration: 1040 loss : 1.152312349305681\n",
      "lambda: 0.1 iteration: 1060 loss : 1.126145055036204\n",
      "lambda: 0.1 iteration: 1080 loss : 1.1019798829502663\n",
      "lambda: 0.1 iteration: 1100 loss : 1.07913875095653\n",
      "lambda: 0.1 iteration: 1120 loss : 1.05752222436703\n",
      "lambda: 0.1 iteration: 1140 loss : 1.0370455233756328\n",
      "lambda: 0.1 iteration: 1160 loss : 1.0176307048065143\n",
      "lambda: 0.1 iteration: 1180 loss : 0.9992056729110337\n",
      "lambda: 0.1 iteration: 1200 loss : 0.9817036674440169\n",
      "lambda: 0.1 iteration: 1220 loss : 0.9650628391147759\n",
      "lambda: 0.1 iteration: 1240 loss : 0.9497346199683367\n",
      "lambda: 0.1 iteration: 1260 loss : 0.9355047963840764\n",
      "lambda: 0.1 iteration: 1280 loss : 0.9224117704143244\n",
      "lambda: 0.1 iteration: 1300 loss : 0.9098949793054079\n",
      "lambda: 0.1 iteration: 1320 loss : 0.8986657900640271\n",
      "lambda: 0.1 iteration: 1340 loss : 0.8880891971006883\n",
      "lambda: 0.1 iteration: 1360 loss : 0.8780047842293266\n",
      "lambda: 0.1 iteration: 1380 loss : 0.8690149602536495\n",
      "lambda: 0.1 iteration: 1400 loss : 0.860360060359272\n",
      "lambda: 0.1 iteration: 1420 loss : 0.8520176506352461\n",
      "lambda: 0.1 iteration: 1440 loss : 0.8439676161973428\n",
      "lambda: 0.1 iteration: 1460 loss : 0.8361916029287723\n",
      "lambda: 0.1 iteration: 1480 loss : 0.828672756556095\n",
      "lambda: 0.1 iteration: 1500 loss : 0.8213955348482997\n",
      "lambda: 0.1 iteration: 1520 loss : 0.8143534696371801\n",
      "lambda: 0.1 iteration: 1540 loss : 0.8075297588440414\n",
      "lambda: 0.1 iteration: 1560 loss : 0.8009027802063988\n",
      "lambda: 0.1 iteration: 1580 loss : 0.7944703264553861\n",
      "lambda: 0.1 iteration: 1600 loss : 0.7882175254285595\n",
      "lambda: 0.1 iteration: 1620 loss : 0.7821391343769918\n",
      "lambda: 0.1 iteration: 1640 loss : 0.7762155029966126\n",
      "lambda: 0.1 iteration: 1660 loss : 0.7704475492975302\n",
      "lambda: 0.1 iteration: 1680 loss : 0.7648210002368065\n",
      "lambda: 0.1 iteration: 1700 loss : 0.7593338861864954\n",
      "lambda: 0.1 iteration: 1720 loss : 0.7539758364040637\n",
      "lambda: 0.1 iteration: 1740 loss : 0.7487403120499296\n",
      "lambda: 0.1 iteration: 1760 loss : 0.7436212029714444\n",
      "lambda: 0.1 iteration: 1780 loss : 0.7388863842617891\n",
      "lambda: 0.1 iteration: 1800 loss : 0.7343819198601312\n",
      "lambda: 0.1 iteration: 1820 loss : 0.7299585300406395\n",
      "lambda: 0.1 iteration: 1840 loss : 0.7256236522211358\n",
      "lambda: 0.1 iteration: 1860 loss : 0.721361604793569\n",
      "lambda: 0.1 iteration: 1880 loss : 0.7171808662594771\n",
      "lambda: 0.1 iteration: 1900 loss : 0.7130671367030333\n",
      "lambda: 0.1 iteration: 1920 loss : 0.709026814126076\n",
      "lambda: 0.1 iteration: 1940 loss : 0.7050705664791304\n",
      "lambda: 0.1 iteration: 1960 loss : 0.70123345750512\n",
      "lambda: 0.1 iteration: 1980 loss : 0.6974661637829352\n",
      "lambda: 0.5 iteration: 0 loss : 4398.883502430813\n",
      "lambda: 0.5 iteration: 20 loss : 51.218439686173504\n",
      "lambda: 0.5 iteration: 40 loss : 30.71723489318556\n",
      "lambda: 0.5 iteration: 60 loss : 25.38148236384551\n",
      "lambda: 0.5 iteration: 80 loss : 22.104030601795653\n",
      "lambda: 0.5 iteration: 100 loss : 19.670869522653884\n",
      "lambda: 0.5 iteration: 120 loss : 17.744453488573065\n",
      "lambda: 0.5 iteration: 140 loss : 16.154239477852702\n",
      "lambda: 0.5 iteration: 160 loss : 14.799782144756747\n",
      "lambda: 0.5 iteration: 180 loss : 13.61844595572256\n",
      "lambda: 0.5 iteration: 200 loss : 12.56977085531146\n",
      "lambda: 0.5 iteration: 220 loss : 11.626827127484784\n",
      "lambda: 0.5 iteration: 240 loss : 10.771128322855253\n",
      "lambda: 0.5 iteration: 260 loss : 10.002245965783196\n",
      "lambda: 0.5 iteration: 280 loss : 9.29723741190039\n",
      "lambda: 0.5 iteration: 300 loss : 8.647250569490026\n",
      "lambda: 0.5 iteration: 320 loss : 8.04682330345983\n",
      "lambda: 0.5 iteration: 340 loss : 7.504629440995137\n",
      "lambda: 0.5 iteration: 360 loss : 7.002461031668918\n",
      "lambda: 0.5 iteration: 380 loss : 6.536047450369637\n",
      "lambda: 0.5 iteration: 400 loss : 6.102573276352155\n",
      "lambda: 0.5 iteration: 420 loss : 5.699447195067092\n",
      "lambda: 0.5 iteration: 440 loss : 5.32430387608988\n",
      "lambda: 0.5 iteration: 460 loss : 4.977583780465572\n",
      "lambda: 0.5 iteration: 480 loss : 4.659693282890755\n",
      "lambda: 0.5 iteration: 500 loss : 4.363421438676653\n",
      "lambda: 0.5 iteration: 520 loss : 4.096680127936395\n",
      "lambda: 0.5 iteration: 540 loss : 3.8495318190495693\n",
      "lambda: 0.5 iteration: 560 loss : 3.6194917836039835\n",
      "lambda: 0.5 iteration: 580 loss : 3.4048432232461368\n",
      "lambda: 0.5 iteration: 600 loss : 3.2042773105684654\n",
      "lambda: 0.5 iteration: 620 loss : 3.016641413014761\n",
      "lambda: 0.5 iteration: 640 loss : 2.8460023915152584\n",
      "lambda: 0.5 iteration: 660 loss : 2.6995733501053536\n",
      "lambda: 0.5 iteration: 680 loss : 2.566912511692189\n",
      "lambda: 0.5 iteration: 700 loss : 2.4464675565974994\n",
      "lambda: 0.5 iteration: 720 loss : 2.33223926617919\n",
      "lambda: 0.5 iteration: 740 loss : 2.2278632030870926\n",
      "lambda: 0.5 iteration: 760 loss : 2.1282440174105925\n",
      "lambda: 0.5 iteration: 780 loss : 2.0346188759356947\n",
      "lambda: 0.5 iteration: 800 loss : 1.949015291088923\n",
      "lambda: 0.5 iteration: 820 loss : 1.8691999421900265\n",
      "lambda: 0.5 iteration: 840 loss : 1.7997474851544184\n",
      "lambda: 0.5 iteration: 860 loss : 1.736350791622749\n",
      "lambda: 0.5 iteration: 880 loss : 1.6751472887795242\n",
      "lambda: 0.5 iteration: 900 loss : 1.6157951017588654\n",
      "lambda: 0.5 iteration: 920 loss : 1.5579753770088516\n",
      "lambda: 0.5 iteration: 940 loss : 1.5021933441411752\n",
      "lambda: 0.5 iteration: 960 loss : 1.4507209987575236\n",
      "lambda: 0.5 iteration: 980 loss : 1.4038010825180427\n",
      "lambda: 0.5 iteration: 1000 loss : 1.358076399637059\n",
      "lambda: 0.5 iteration: 1020 loss : 1.313174630638953\n",
      "lambda: 0.5 iteration: 1040 loss : 1.2710136008677422\n",
      "lambda: 0.5 iteration: 1060 loss : 1.2334598987114245\n",
      "lambda: 0.5 iteration: 1080 loss : 1.196962983372305\n",
      "lambda: 0.5 iteration: 1100 loss : 1.161209811625532\n"
     ]
    },
    {
     "name": "stdout",
     "output_type": "stream",
     "text": [
      "lambda: 0.5 iteration: 1120 loss : 1.1264323089418635\n",
      "lambda: 0.5 iteration: 1140 loss : 1.092882182216227\n",
      "lambda: 0.5 iteration: 1160 loss : 1.0598035456341977\n",
      "lambda: 0.5 iteration: 1180 loss : 1.0276321644742545\n",
      "lambda: 0.5 iteration: 1200 loss : 0.9962281131169113\n",
      "lambda: 0.5 iteration: 1220 loss : 0.9656544926980266\n",
      "lambda: 0.5 iteration: 1240 loss : 0.935644653273188\n",
      "lambda: 0.5 iteration: 1260 loss : 0.9062989502440566\n",
      "lambda: 0.5 iteration: 1280 loss : 0.8810586246662224\n",
      "lambda: 0.5 iteration: 1300 loss : 0.857470999840493\n",
      "lambda: 0.5 iteration: 1320 loss : 0.8346269787093389\n",
      "lambda: 0.5 iteration: 1340 loss : 0.8149146166651211\n",
      "lambda: 0.5 iteration: 1360 loss : 0.7953722864622448\n",
      "lambda: 0.5 iteration: 1380 loss : 0.7765005314262736\n",
      "lambda: 0.5 iteration: 1400 loss : 0.7578812589534136\n",
      "lambda: 0.5 iteration: 1420 loss : 0.7389506617996937\n",
      "lambda: 0.5 iteration: 1440 loss : 0.7211949627759955\n",
      "lambda: 0.5 iteration: 1460 loss : 0.7031144878558075\n",
      "lambda: 0.5 iteration: 1480 loss : 0.685762120800508\n",
      "lambda: 0.5 iteration: 1500 loss : 0.6681368677175678\n",
      "lambda: 0.5 iteration: 1520 loss : 0.6511941379515163\n",
      "lambda: 0.5 iteration: 1540 loss : 0.6371913703515155\n",
      "lambda: 0.5 iteration: 1560 loss : 0.6238109932304182\n",
      "lambda: 0.5 iteration: 1580 loss : 0.610423993874521\n",
      "lambda: 0.5 iteration: 1600 loss : 0.5973822150529808\n",
      "lambda: 0.5 iteration: 1620 loss : 0.585041149036812\n",
      "lambda: 0.5 iteration: 1640 loss : 0.574703854373453\n",
      "lambda: 0.5 iteration: 1660 loss : 0.5646266668244926\n",
      "lambda: 0.5 iteration: 1680 loss : 0.5544181224829892\n",
      "lambda: 0.5 iteration: 1700 loss : 0.546541778002752\n",
      "lambda: 0.5 iteration: 1720 loss : 0.5397873263273189\n",
      "lambda: 0.5 iteration: 1740 loss : 0.5335447543818622\n",
      "lambda: 0.5 iteration: 1760 loss : 0.5286335525763286\n",
      "lambda: 0.5 iteration: 1780 loss : 0.5240097724292282\n",
      "lambda: 0.5 iteration: 1800 loss : 0.5214456479998645\n",
      "lambda: 0.5 iteration: 1820 loss : 0.5192488730902904\n",
      "lambda: 0.5 iteration: 1840 loss : 0.5168594984851399\n",
      "lambda: 0.5 iteration: 1860 loss : 0.5144389697316399\n",
      "lambda: 0.5 iteration: 1880 loss : 0.5122667246922783\n",
      "lambda: 0.5 iteration: 1900 loss : 0.5100999499330309\n",
      "lambda: 0.5 iteration: 1920 loss : 0.5078625020797181\n",
      "lambda: 0.5 iteration: 1940 loss : 0.5056989517347236\n",
      "lambda: 0.5 iteration: 1960 loss : 0.5036946733111174\n",
      "lambda: 0.5 iteration: 1980 loss : 0.5016906839319216\n",
      "lambda: 0.6 iteration: 0 loss : 4401.583502430813\n",
      "lambda: 0.6 iteration: 20 loss : 52.687264460009565\n",
      "lambda: 0.6 iteration: 40 loss : 32.08199474955338\n",
      "lambda: 0.6 iteration: 60 loss : 26.62232866672526\n",
      "lambda: 0.6 iteration: 80 loss : 23.232539754965057\n",
      "lambda: 0.6 iteration: 100 loss : 20.69739470175119\n",
      "lambda: 0.6 iteration: 120 loss : 18.67759615589101\n",
      "lambda: 0.6 iteration: 140 loss : 17.00136937328339\n",
      "lambda: 0.6 iteration: 160 loss : 15.567372181740822\n",
      "lambda: 0.6 iteration: 180 loss : 14.31227933708757\n",
      "lambda: 0.6 iteration: 200 loss : 13.195075816945492\n",
      "lambda: 0.6 iteration: 220 loss : 12.188368780429716\n",
      "lambda: 0.6 iteration: 240 loss : 11.285033799511087\n",
      "lambda: 0.6 iteration: 260 loss : 10.4640741732187\n",
      "lambda: 0.6 iteration: 280 loss : 9.708418367501274\n",
      "lambda: 0.6 iteration: 300 loss : 9.010899556669065\n",
      "lambda: 0.6 iteration: 320 loss : 8.379131711955374\n",
      "lambda: 0.6 iteration: 340 loss : 7.797225078377044\n",
      "lambda: 0.6 iteration: 360 loss : 7.256420483439287\n",
      "lambda: 0.6 iteration: 380 loss : 6.753297486597413\n",
      "lambda: 0.6 iteration: 400 loss : 6.285349142520248\n",
      "lambda: 0.6 iteration: 420 loss : 5.849522180122022\n",
      "lambda: 0.6 iteration: 440 loss : 5.453032807679618\n",
      "lambda: 0.6 iteration: 460 loss : 5.083641242475213\n",
      "lambda: 0.6 iteration: 480 loss : 4.748155969980731\n",
      "lambda: 0.6 iteration: 500 loss : 4.440176872139524\n",
      "lambda: 0.6 iteration: 520 loss : 4.1538487506254365\n",
      "lambda: 0.6 iteration: 540 loss : 3.887219604485969\n",
      "lambda: 0.6 iteration: 560 loss : 3.6386192205948307\n",
      "lambda: 0.6 iteration: 580 loss : 3.4074878968285724\n",
      "lambda: 0.6 iteration: 600 loss : 3.1956105159560675\n",
      "lambda: 0.6 iteration: 620 loss : 3.00800751397861\n",
      "lambda: 0.6 iteration: 640 loss : 2.8461217440832867\n",
      "lambda: 0.6 iteration: 660 loss : 2.696510732271835\n",
      "lambda: 0.6 iteration: 680 loss : 2.5586464401228843\n",
      "lambda: 0.6 iteration: 700 loss : 2.4286738669729453\n",
      "lambda: 0.6 iteration: 720 loss : 2.307827453852087\n",
      "lambda: 0.6 iteration: 740 loss : 2.196094515449224\n",
      "lambda: 0.6 iteration: 760 loss : 2.0938055089177046\n",
      "lambda: 0.6 iteration: 780 loss : 2.000140769037816\n",
      "lambda: 0.6 iteration: 800 loss : 1.916301462124172\n",
      "lambda: 0.6 iteration: 820 loss : 1.8354041134217822\n",
      "lambda: 0.6 iteration: 840 loss : 1.757381559730707\n",
      "lambda: 0.6 iteration: 860 loss : 1.6816820161461636\n",
      "lambda: 0.6 iteration: 880 loss : 1.611837792730093\n",
      "lambda: 0.6 iteration: 900 loss : 1.5492408969599114\n",
      "lambda: 0.6 iteration: 920 loss : 1.4879458259923888\n",
      "lambda: 0.6 iteration: 940 loss : 1.4309544524433226\n",
      "lambda: 0.6 iteration: 960 loss : 1.3795486102761734\n",
      "lambda: 0.6 iteration: 980 loss : 1.329056709809694\n",
      "lambda: 0.6 iteration: 1000 loss : 1.2805597280250063\n",
      "lambda: 0.6 iteration: 1020 loss : 1.233169368279685\n",
      "lambda: 0.6 iteration: 1040 loss : 1.1863456371290904\n",
      "lambda: 0.6 iteration: 1060 loss : 1.1411581772786967\n",
      "lambda: 0.6 iteration: 1080 loss : 1.0973080498376686\n",
      "lambda: 0.6 iteration: 1100 loss : 1.0540944300611652\n",
      "lambda: 0.6 iteration: 1120 loss : 1.0120121554878805\n",
      "lambda: 0.6 iteration: 1140 loss : 0.975653599783445\n",
      "lambda: 0.6 iteration: 1160 loss : 0.9414223014520023\n",
      "lambda: 0.6 iteration: 1180 loss : 0.9079553258953411\n",
      "lambda: 0.6 iteration: 1200 loss : 0.8773403072108165\n",
      "lambda: 0.6 iteration: 1220 loss : 0.849297546332141\n",
      "lambda: 0.6 iteration: 1240 loss : 0.8219819501249049\n",
      "lambda: 0.6 iteration: 1260 loss : 0.7949570412032076\n",
      "lambda: 0.6 iteration: 1280 loss : 0.768688507575223\n",
      "lambda: 0.6 iteration: 1300 loss : 0.7428107125571739\n",
      "lambda: 0.6 iteration: 1320 loss : 0.7172228278612468\n",
      "lambda: 0.6 iteration: 1340 loss : 0.692176188330375\n",
      "lambda: 0.6 iteration: 1360 loss : 0.6707925413824611\n",
      "lambda: 0.6 iteration: 1380 loss : 0.6510919929206186\n",
      "lambda: 0.6 iteration: 1400 loss : 0.6317869047827727\n",
      "lambda: 0.6 iteration: 1420 loss : 0.6125113539806211\n",
      "lambda: 0.6 iteration: 1440 loss : 0.5964091684110495\n",
      "lambda: 0.6 iteration: 1460 loss : 0.5812760723277338\n",
      "lambda: 0.6 iteration: 1480 loss : 0.5673621546315755\n",
      "lambda: 0.6 iteration: 1500 loss : 0.5542133043293869\n",
      "lambda: 0.6 iteration: 1520 loss : 0.546322702464056\n",
      "lambda: 0.6 iteration: 1540 loss : 0.5391906918433724\n",
      "lambda: 0.6 iteration: 1560 loss : 0.5336537960183382\n",
      "lambda: 0.6 iteration: 1580 loss : 0.530191183735641\n",
      "lambda: 0.6 iteration: 1600 loss : 0.5266192536472774\n",
      "lambda: 0.6 iteration: 1620 loss : 0.5232894908207051\n",
      "lambda: 0.6 iteration: 1640 loss : 0.5196972099211382\n",
      "lambda: 0.6 iteration: 1660 loss : 0.5160475548075987\n",
      "lambda: 0.6 iteration: 1680 loss : 0.5128150432215544\n",
      "lambda: 0.6 iteration: 1700 loss : 0.509537583788151\n",
      "lambda: 0.6 iteration: 1720 loss : 0.5063086979753181\n",
      "lambda: 0.6 iteration: 1740 loss : 0.5032895919159212\n",
      "lambda: 0.6 iteration: 1760 loss : 0.500145476642341\n",
      "lambda: 0.6 iteration: 1780 loss : 0.4968275160871864\n",
      "lambda: 0.6 iteration: 1800 loss : 0.49349157210178995\n",
      "lambda: 0.6 iteration: 1820 loss : 0.4906288866628255\n",
      "lambda: 0.6 iteration: 1840 loss : 0.48922680179438216\n",
      "lambda: 0.6 iteration: 1860 loss : 0.4886035354368796\n",
      "lambda: 0.6 iteration: 1880 loss : 0.48888263563987217\n",
      "lambda: 0.6 iteration: 1900 loss : 0.4889489095069739\n",
      "lambda: 0.6 iteration: 1920 loss : 0.4889881500327921\n",
      "lambda: 0.6 iteration: 1940 loss : 0.4892257979423137\n",
      "lambda: 0.6 iteration: 1960 loss : 0.48939119129494324\n",
      "lambda: 0.6 iteration: 1980 loss : 0.48969110387771086\n",
      "lambda: 0.7 iteration: 0 loss : 4404.283502430812\n",
      "lambda: 0.7 iteration: 20 loss : 54.1517188634582\n",
      "lambda: 0.7 iteration: 40 loss : 33.43758795835629\n",
      "lambda: 0.7 iteration: 60 loss : 27.84959305815604\n",
      "lambda: 0.7 iteration: 80 loss : 24.343340149400234\n",
      "lambda: 0.7 iteration: 100 loss : 21.702344616375324\n",
      "lambda: 0.7 iteration: 120 loss : 19.585536012721587\n",
      "lambda: 0.7 iteration: 140 loss : 17.819889232644066\n",
      "lambda: 0.7 iteration: 160 loss : 16.303148609227016\n",
      "lambda: 0.7 iteration: 180 loss : 14.971284102058547\n"
     ]
    },
    {
     "name": "stdout",
     "output_type": "stream",
     "text": [
      "lambda: 0.7 iteration: 200 loss : 13.782711965660774\n",
      "lambda: 0.7 iteration: 220 loss : 12.716368459022746\n",
      "lambda: 0.7 iteration: 240 loss : 11.76011621936687\n",
      "lambda: 0.7 iteration: 260 loss : 10.882422553967903\n",
      "lambda: 0.7 iteration: 280 loss : 10.073537367698378\n",
      "lambda: 0.7 iteration: 300 loss : 9.336751000121957\n",
      "lambda: 0.7 iteration: 320 loss : 8.663660058637785\n",
      "lambda: 0.7 iteration: 340 loss : 8.038472289301861\n",
      "lambda: 0.7 iteration: 360 loss : 7.456862943252774\n",
      "lambda: 0.7 iteration: 380 loss : 6.915654768264799\n",
      "lambda: 0.7 iteration: 400 loss : 6.415187214659852\n",
      "lambda: 0.7 iteration: 420 loss : 5.9565956132760185\n",
      "lambda: 0.7 iteration: 440 loss : 5.53173756713537\n",
      "lambda: 0.7 iteration: 460 loss : 5.148204307816037\n",
      "lambda: 0.7 iteration: 480 loss : 4.793533950999456\n",
      "lambda: 0.7 iteration: 500 loss : 4.464330700159327\n",
      "lambda: 0.7 iteration: 520 loss : 4.157243743262576\n",
      "lambda: 0.7 iteration: 540 loss : 3.872466738321865\n",
      "lambda: 0.7 iteration: 560 loss : 3.610964006683468\n",
      "lambda: 0.7 iteration: 580 loss : 3.3668618400842307\n",
      "lambda: 0.7 iteration: 600 loss : 3.164731368757579\n",
      "lambda: 0.7 iteration: 620 loss : 2.9809316763708336\n",
      "lambda: 0.7 iteration: 640 loss : 2.812741053398275\n",
      "lambda: 0.7 iteration: 660 loss : 2.6537438199633088\n",
      "lambda: 0.7 iteration: 680 loss : 2.5093569552065094\n",
      "lambda: 0.7 iteration: 700 loss : 2.3726055739436323\n",
      "lambda: 0.7 iteration: 720 loss : 2.2521043445899656\n",
      "lambda: 0.7 iteration: 740 loss : 2.1386545384566857\n",
      "lambda: 0.7 iteration: 760 loss : 2.034952956703439\n",
      "lambda: 0.7 iteration: 780 loss : 1.935719711443101\n",
      "lambda: 0.7 iteration: 800 loss : 1.8392836993786768\n",
      "lambda: 0.7 iteration: 820 loss : 1.7503219526292288\n",
      "lambda: 0.7 iteration: 840 loss : 1.669690640104979\n",
      "lambda: 0.7 iteration: 860 loss : 1.5931024841839476\n",
      "lambda: 0.7 iteration: 880 loss : 1.5259629862158584\n",
      "lambda: 0.7 iteration: 900 loss : 1.4600581990701558\n",
      "lambda: 0.7 iteration: 920 loss : 1.3960191895409746\n",
      "lambda: 0.7 iteration: 940 loss : 1.3340864108703239\n",
      "lambda: 0.7 iteration: 960 loss : 1.2734454633011305\n",
      "lambda: 0.7 iteration: 980 loss : 1.213707658738626\n",
      "lambda: 0.7 iteration: 1000 loss : 1.1561761030684654\n",
      "lambda: 0.7 iteration: 1020 loss : 1.1017857822797987\n",
      "lambda: 0.7 iteration: 1040 loss : 1.0546243662592614\n",
      "lambda: 0.7 iteration: 1060 loss : 1.0083184722750418\n",
      "lambda: 0.7 iteration: 1080 loss : 0.9634424928943781\n",
      "lambda: 0.7 iteration: 1100 loss : 0.922387600431098\n",
      "lambda: 0.7 iteration: 1120 loss : 0.8847328156399321\n",
      "lambda: 0.7 iteration: 1140 loss : 0.8478522928833434\n",
      "lambda: 0.7 iteration: 1160 loss : 0.8119899589930129\n",
      "lambda: 0.7 iteration: 1180 loss : 0.7767093416962846\n",
      "lambda: 0.7 iteration: 1200 loss : 0.7416498024862492\n",
      "lambda: 0.7 iteration: 1220 loss : 0.7095844912388523\n",
      "lambda: 0.7 iteration: 1240 loss : 0.682202658080064\n",
      "lambda: 0.7 iteration: 1260 loss : 0.6552428427686946\n",
      "lambda: 0.7 iteration: 1280 loss : 0.6295519556409419\n",
      "lambda: 0.7 iteration: 1300 loss : 0.6094093948081033\n",
      "lambda: 0.7 iteration: 1320 loss : 0.5897843891483738\n",
      "lambda: 0.7 iteration: 1340 loss : 0.5698798318343604\n",
      "lambda: 0.7 iteration: 1360 loss : 0.5569768058975952\n",
      "lambda: 0.7 iteration: 1380 loss : 0.5480026456311745\n",
      "lambda: 0.7 iteration: 1400 loss : 0.5410516542255177\n",
      "lambda: 0.7 iteration: 1420 loss : 0.536875324347557\n",
      "lambda: 0.7 iteration: 1440 loss : 0.5321618161078174\n",
      "lambda: 0.7 iteration: 1460 loss : 0.5265686957995104\n",
      "lambda: 0.7 iteration: 1480 loss : 0.5224492523820823\n",
      "lambda: 0.7 iteration: 1500 loss : 0.5171676827536298\n",
      "lambda: 0.7 iteration: 1520 loss : 0.5126420603204634\n",
      "lambda: 0.7 iteration: 1540 loss : 0.5085501070348395\n",
      "lambda: 0.7 iteration: 1560 loss : 0.5041697719708568\n",
      "lambda: 0.7 iteration: 1580 loss : 0.4994651763753811\n",
      "lambda: 0.7 iteration: 1600 loss : 0.49460077193733726\n",
      "lambda: 0.7 iteration: 1620 loss : 0.49085153900371165\n",
      "lambda: 0.7 iteration: 1640 loss : 0.49189029113114857\n",
      "lambda: 0.7 iteration: 1660 loss : 0.4912581935821608\n",
      "lambda: 0.7 iteration: 1680 loss : 0.49217723012805464\n",
      "lambda: 0.7 iteration: 1700 loss : 0.4915955395645118\n",
      "lambda: 0.7 iteration: 1720 loss : 0.4909609385434522\n",
      "lambda: 0.7 iteration: 1740 loss : 0.4910863816220531\n",
      "lambda: 0.7 iteration: 1760 loss : 0.4911900589822178\n",
      "lambda: 0.7 iteration: 1780 loss : 0.4922324881392665\n",
      "lambda: 0.7 iteration: 1800 loss : 0.49171589503706664\n",
      "lambda: 0.7 iteration: 1820 loss : 0.491683390754788\n",
      "lambda: 0.7 iteration: 1840 loss : 0.49169966969224865\n",
      "lambda: 0.7 iteration: 1860 loss : 0.4914368321252907\n",
      "lambda: 0.7 iteration: 1880 loss : 0.49176408271776384\n",
      "lambda: 0.7 iteration: 1900 loss : 0.49149859602127094\n",
      "lambda: 0.7 iteration: 1920 loss : 0.49171245381348433\n",
      "lambda: 0.7 iteration: 1940 loss : 0.4914886146948398\n",
      "lambda: 0.7 iteration: 1960 loss : 0.49068524396360746\n",
      "lambda: 0.7 iteration: 1980 loss : 0.49095679074513227\n",
      "lambda: 0.75 iteration: 0 loss : 4405.633502430813\n",
      "lambda: 0.75 iteration: 20 loss : 54.882307176287824\n",
      "lambda: 0.75 iteration: 40 loss : 34.11194706992113\n",
      "lambda: 0.75 iteration: 60 loss : 28.45813203707824\n",
      "lambda: 0.75 iteration: 80 loss : 24.892099562092618\n",
      "lambda: 0.75 iteration: 100 loss : 22.19672884951006\n",
      "lambda: 0.75 iteration: 120 loss : 20.0300548872042\n",
      "lambda: 0.75 iteration: 140 loss : 18.218420398798244\n",
      "lambda: 0.75 iteration: 160 loss : 16.659106719408484\n",
      "lambda: 0.75 iteration: 180 loss : 15.287725753396339\n",
      "lambda: 0.75 iteration: 200 loss : 14.062404235173943\n",
      "lambda: 0.75 iteration: 220 loss : 12.969844230522936\n",
      "lambda: 0.75 iteration: 240 loss : 11.9825260202327\n",
      "lambda: 0.75 iteration: 260 loss : 11.075300070963662\n",
      "lambda: 0.75 iteration: 280 loss : 10.23889005267656\n",
      "lambda: 0.75 iteration: 300 loss : 9.484648064159945\n",
      "lambda: 0.75 iteration: 320 loss : 8.787936519534838\n",
      "lambda: 0.75 iteration: 340 loss : 8.140132896847213\n",
      "lambda: 0.75 iteration: 360 loss : 7.537557974620126\n",
      "lambda: 0.75 iteration: 380 loss : 6.976453723977917\n",
      "lambda: 0.75 iteration: 400 loss : 6.46484326727105\n",
      "lambda: 0.75 iteration: 420 loss : 5.989349398478392\n",
      "lambda: 0.75 iteration: 440 loss : 5.559555373737694\n",
      "lambda: 0.75 iteration: 460 loss : 5.164475136742611\n",
      "lambda: 0.75 iteration: 480 loss : 4.798323068673906\n",
      "lambda: 0.75 iteration: 500 loss : 4.457167887815155\n",
      "lambda: 0.75 iteration: 520 loss : 4.140730409373814\n",
      "lambda: 0.75 iteration: 540 loss : 3.8504499611014498\n",
      "lambda: 0.75 iteration: 560 loss : 3.5802448052004525\n",
      "lambda: 0.75 iteration: 580 loss : 3.344651735186003\n",
      "lambda: 0.75 iteration: 600 loss : 3.1413651246915677\n",
      "lambda: 0.75 iteration: 620 loss : 2.9550237956792165\n",
      "lambda: 0.75 iteration: 640 loss : 2.7807173300020294\n",
      "lambda: 0.75 iteration: 660 loss : 2.621544121934247\n",
      "lambda: 0.75 iteration: 680 loss : 2.472338230857012\n",
      "lambda: 0.75 iteration: 700 loss : 2.338903008490822\n",
      "lambda: 0.75 iteration: 720 loss : 2.213820332139232\n",
      "lambda: 0.75 iteration: 740 loss : 2.099391707440413\n",
      "lambda: 0.75 iteration: 760 loss : 1.9890358742911551\n",
      "lambda: 0.75 iteration: 780 loss : 1.882129583502186\n",
      "lambda: 0.75 iteration: 800 loss : 1.7879216613403748\n",
      "lambda: 0.75 iteration: 820 loss : 1.6979557950345783\n",
      "lambda: 0.75 iteration: 840 loss : 1.6193938045924317\n",
      "lambda: 0.75 iteration: 860 loss : 1.5452959022332284\n",
      "lambda: 0.75 iteration: 880 loss : 1.4718292150721355\n",
      "lambda: 0.75 iteration: 900 loss : 1.401789924751751\n",
      "lambda: 0.75 iteration: 920 loss : 1.3324010343873052\n",
      "lambda: 0.75 iteration: 940 loss : 1.2652831002516347\n",
      "lambda: 0.75 iteration: 960 loss : 1.1996907072636087\n",
      "lambda: 0.75 iteration: 980 loss : 1.140515460764422\n",
      "lambda: 0.75 iteration: 1000 loss : 1.0866236203995154\n",
      "lambda: 0.75 iteration: 1020 loss : 1.0345512148194398\n",
      "lambda: 0.75 iteration: 1040 loss : 0.9830583567252286\n",
      "lambda: 0.75 iteration: 1060 loss : 0.9367909168204802\n",
      "lambda: 0.75 iteration: 1080 loss : 0.8941878417286553\n",
      "lambda: 0.75 iteration: 1100 loss : 0.852353882974336\n",
      "lambda: 0.75 iteration: 1120 loss : 0.8115005442647292\n",
      "lambda: 0.75 iteration: 1140 loss : 0.771726020445141\n",
      "lambda: 0.75 iteration: 1160 loss : 0.7316688805029878\n",
      "lambda: 0.75 iteration: 1180 loss : 0.7011491387727748\n",
      "lambda: 0.75 iteration: 1200 loss : 0.6696855911127522\n",
      "lambda: 0.75 iteration: 1220 loss : 0.6404106946932893\n",
      "lambda: 0.75 iteration: 1240 loss : 0.6166136186143989\n",
      "lambda: 0.75 iteration: 1260 loss : 0.5938215807477347\n"
     ]
    },
    {
     "name": "stdout",
     "output_type": "stream",
     "text": [
      "lambda: 0.75 iteration: 1280 loss : 0.5733761687190195\n",
      "lambda: 0.75 iteration: 1300 loss : 0.558730953300873\n",
      "lambda: 0.75 iteration: 1320 loss : 0.5490773852199581\n",
      "lambda: 0.75 iteration: 1340 loss : 0.5433620300669539\n",
      "lambda: 0.75 iteration: 1360 loss : 0.5373106993949419\n",
      "lambda: 0.75 iteration: 1380 loss : 0.5319446673768078\n",
      "lambda: 0.75 iteration: 1400 loss : 0.5266181476252706\n",
      "lambda: 0.75 iteration: 1420 loss : 0.5215879314931217\n",
      "lambda: 0.75 iteration: 1440 loss : 0.5152778694674225\n",
      "lambda: 0.75 iteration: 1460 loss : 0.51024354570516\n",
      "lambda: 0.75 iteration: 1480 loss : 0.5050191397035637\n",
      "lambda: 0.75 iteration: 1500 loss : 0.5001973175956209\n",
      "lambda: 0.75 iteration: 1520 loss : 0.4954516627834332\n",
      "lambda: 0.75 iteration: 1540 loss : 0.4927845005623093\n",
      "lambda: 0.75 iteration: 1560 loss : 0.4929144055065345\n",
      "lambda: 0.75 iteration: 1580 loss : 0.49220513814493594\n",
      "lambda: 0.75 iteration: 1600 loss : 0.49296469325615944\n",
      "lambda: 0.75 iteration: 1620 loss : 0.4923168226129223\n",
      "lambda: 0.75 iteration: 1640 loss : 0.4928041141822846\n",
      "lambda: 0.75 iteration: 1660 loss : 0.49259320793561834\n",
      "lambda: 0.75 iteration: 1680 loss : 0.49246730580794484\n",
      "lambda: 0.75 iteration: 1700 loss : 0.49292594292720415\n",
      "lambda: 0.75 iteration: 1720 loss : 0.49201740357465323\n",
      "lambda: 0.75 iteration: 1740 loss : 0.49282153408461465\n",
      "lambda: 0.75 iteration: 1760 loss : 0.49291908426164494\n",
      "lambda: 0.75 iteration: 1780 loss : 0.4923218150471748\n",
      "lambda: 0.75 iteration: 1800 loss : 0.49221042493430195\n",
      "lambda: 0.75 iteration: 1820 loss : 0.4925168455357797\n",
      "lambda: 0.75 iteration: 1840 loss : 0.4919589012856347\n",
      "lambda: 0.75 iteration: 1860 loss : 0.4924903658089741\n",
      "lambda: 0.75 iteration: 1880 loss : 0.49304355368910135\n",
      "lambda: 0.75 iteration: 1900 loss : 0.49274089127865056\n",
      "lambda: 0.75 iteration: 1920 loss : 0.4924760612730915\n",
      "lambda: 0.75 iteration: 1940 loss : 0.4922695932289598\n",
      "lambda: 0.75 iteration: 1960 loss : 0.49277810783075754\n",
      "lambda: 0.75 iteration: 1980 loss : 0.49283662632320047\n"
     ]
    }
   ],
   "source": [
    "# Gradient Descent with L1 reg\n",
    "\n",
    "alpha =0.0005\n",
    "itns = 2000\n",
    "lambdas = [0.1,0.5,0.6,0.7,0.75]\n",
    "losses_l1 = {}\n",
    "losses_l1_val = {}\n",
    "counter_l1 = []\n",
    "w_storel1 = {}\n",
    "for lambda_ in lambdas:\n",
    "    losses_l1[lambda_] = []\n",
    "    w = np.array([0,1,1,1,1,1,1,1,1,1,1,1,1,1,1,1,1,1,1,1,1,1,1,1,1,1,1,1])\n",
    "    for i in range(itns):\n",
    "        y_hat = w.dot(X_train_6.T)  \n",
    "        if i%20 == 0:  \n",
    "            loss_ = lossL1(X_train_6,w,y_train,lambda_)\n",
    "            losses_l1[lambda_].append(loss_)\n",
    "            print(\"lambda: {} iteration: {} loss : {}\" .format(lambda_,i,loss_))   \n",
    "            counter_l1.append(i)\n",
    "        w_der = (y_hat-y_train)*(X_train_6.T)\n",
    "        w_der_norm = np.mean(w_der, axis = 1) + lambda_*np.sign(w)\n",
    "        w = w - alpha*w_der_norm\n",
    "    w_storel1[lambda_] = w\n",
    "    losses_l1_val[lambda_] = lossL1(X_val_6, w, y_val,lambda_)"
   ]
  },
  {
   "cell_type": "code",
   "execution_count": 39,
   "metadata": {},
   "outputs": [
    {
     "data": {
      "image/png": "[encoded data removed]",
      "text/plain": [
       "<matplotlib.figure.Figure at 0x1172fb198>"
      ]
     },
     "metadata": {},
     "output_type": "display_data"
    }
   ],
   "source": [
    "colors = np.array(['red','green','blue','yellow','pink'])\n",
    "for i,lamb in enumerate(losses_l1.keys()):\n",
    "    plt.plot(counter_l1[1:100],losses_l1[lamb][1:],color = colors[i])"
   ]
  },
  {
   "cell_type": "code",
   "execution_count": 40,
   "metadata": {},
   "outputs": [
    {
     "name": "stdout",
     "output_type": "stream",
     "text": [
      "0.687751831526\n",
      "0.489447630646\n",
      "0.479740015437\n",
      "0.480531139516\n",
      "0.483092664551\n"
     ]
    },
    {
     "data": {
      "image/png": "[encoded data removed]",
      "text/plain": [
       "<matplotlib.figure.Figure at 0x1a1e8e4588>"
      ]
     },
     "metadata": {},
     "output_type": "display_data"
    }
   ],
   "source": [
    "for i,lamb in enumerate(losses_l1_val.keys()):\n",
    "    plt.scatter(lamb,losses_l1_val[lamb],color=colors[i])\n",
    "    print(losses_l1_val[lamb])"
   ]
  },
  {
   "cell_type": "code",
   "execution_count": 41,
   "metadata": {},
   "outputs": [
    {
     "data": {
      "text/plain": [
       "[0.049291662954186632, 0.97577776234928493]"
      ]
     },
     "execution_count": 41,
     "metadata": {},
     "output_type": "execute_result"
    }
   ],
   "source": [
    "RSq_RMS(w_storel1[0.6],X_train_6,y_train)"
   ]
  },
  {
   "cell_type": "code",
   "execution_count": 42,
   "metadata": {},
   "outputs": [
    {
     "data": {
      "text/plain": [
       "[0.04940718797657262, 0.9732658558991214]"
      ]
     },
     "execution_count": 42,
     "metadata": {},
     "output_type": "execute_result"
    }
   ],
   "source": [
    "RSq_RMS(w_storel1[0.6],X_test_6,y_test)"
   ]
  },
  {
   "cell_type": "code",
   "execution_count": 28,
   "metadata": {},
   "outputs": [
    {
     "name": "stdout",
     "output_type": "stream",
     "text": [
      "0.487184555477\n"
     ]
    }
   ],
   "source": [
    "# Gradient Descent with L1 reg for testing\n",
    "loss_l1gd_test = lossL1(X_test_6, w_storel1[0.6], y_test, 0.6)\n",
    "#print(w_storel1[0.6])\n",
    "print(loss_l1gd_test)"
   ]
  },
  {
   "cell_type": "code",
   "execution_count": 195,
   "metadata": {
    "collapsed": true
   },
   "outputs": [],
   "source": [
    "def  lossL2(x_,w_,y_,lambda_):\n",
    "    m = len(y_)\n",
    "    return (0.5/m)*np.sum((w_.dot(x_.T)-y_)**2)+0.5*lambda_*np.sum(w_**2)"
   ]
  },
  {
   "cell_type": "code",
   "execution_count": 198,
   "metadata": {},
   "outputs": [
    {
     "name": "stdout",
     "output_type": "stream",
     "text": [
      "lambda: 0.5 iteration: 0 loss : 4383.987650531316\n",
      "lambda: 0.5 iteration: 20 loss : 25.522481100754284\n",
      "lambda: 0.5 iteration: 40 loss : 17.57915670235288\n",
      "lambda: 0.5 iteration: 60 loss : 13.706470456106453\n",
      "lambda: 0.5 iteration: 80 loss : 11.20439556288671\n",
      "lambda: 0.5 iteration: 100 loss : 9.375761901613808\n",
      "lambda: 0.5 iteration: 120 loss : 7.943251106993769\n",
      "lambda: 0.5 iteration: 140 loss : 6.779980618914909\n",
      "lambda: 0.5 iteration: 160 loss : 5.818503771436352\n",
      "lambda: 0.5 iteration: 180 loss : 5.016897055929007\n",
      "lambda: 0.5 iteration: 200 loss : 4.34557499887904\n",
      "lambda: 0.5 iteration: 220 loss : 3.7818916145083694\n",
      "lambda: 0.5 iteration: 240 loss : 3.307728532519114\n",
      "lambda: 0.5 iteration: 260 loss : 2.908266607631933\n",
      "lambda: 0.5 iteration: 280 loss : 2.571255864113665\n",
      "lambda: 0.5 iteration: 300 loss : 2.2865180225401196\n",
      "lambda: 0.5 iteration: 320 loss : 2.0455742354645827\n",
      "lambda: 0.5 iteration: 340 loss : 1.841351263309712\n",
      "lambda: 0.5 iteration: 360 loss : 1.6679431459590823\n",
      "lambda: 0.5 iteration: 380 loss : 1.520415294434394\n",
      "lambda: 0.5 iteration: 400 loss : 1.394642406069904\n",
      "lambda: 0.5 iteration: 420 loss : 1.2871739284042174\n",
      "lambda: 0.5 iteration: 440 loss : 1.1951221962188079\n",
      "lambda: 0.5 iteration: 460 loss : 1.1160693258077248\n",
      "lambda: 0.5 iteration: 480 loss : 1.0479896687017465\n",
      "lambda: 0.5 iteration: 500 loss : 0.9891851918490981\n",
      "lambda: 0.5 iteration: 520 loss : 0.9382316070582014\n",
      "lambda: 0.5 iteration: 540 loss : 0.8939334451958135\n",
      "lambda: 0.5 iteration: 560 loss : 0.8552865774085989\n",
      "lambda: 0.5 iteration: 580 loss : 0.8214469390718582\n",
      "lambda: 0.5 iteration: 600 loss : 0.7917044219884521\n",
      "lambda: 0.5 iteration: 620 loss : 0.765461074313877\n",
      "lambda: 0.5 iteration: 640 loss : 0.7422128920469183\n",
      "lambda: 0.5 iteration: 660 loss : 0.7215346058269698\n",
      "lambda: 0.5 iteration: 680 loss : 0.7030669664283183\n",
      "lambda: 0.5 iteration: 700 loss : 0.6865061152045459\n",
      "lambda: 0.5 iteration: 720 loss : 0.671594694673042\n",
      "lambda: 0.5 iteration: 740 loss : 0.6581144118044142\n",
      "lambda: 0.5 iteration: 760 loss : 0.6458798143509679\n",
      "lambda: 0.5 iteration: 780 loss : 0.6347330803332439\n",
      "lambda: 0.5 iteration: 800 loss : 0.6245396539480574\n",
      "lambda: 0.5 iteration: 820 loss : 0.6151845887810714\n",
      "lambda: 0.5 iteration: 840 loss : 0.6065694822280258\n",
      "lambda: 0.5 iteration: 860 loss : 0.5986099042211415\n",
      "lambda: 0.5 iteration: 880 loss : 0.5912332393608856\n",
      "lambda: 0.5 iteration: 900 loss : 0.5843768749005168\n",
      "lambda: 0.5 iteration: 920 loss : 0.5779866781645956\n",
      "lambda: 0.5 iteration: 940 loss : 0.5720157162715561\n",
      "lambda: 0.5 iteration: 960 loss : 0.5664231787815384\n",
      "lambda: 0.5 iteration: 980 loss : 0.5611734703595724\n",
      "lambda: 1 iteration: 0 loss : 4390.737650531316\n",
      "lambda: 1 iteration: 20 loss : 27.45017550878472\n",
      "lambda: 1 iteration: 40 loss : 18.88778450445818\n",
      "lambda: 1 iteration: 60 loss : 14.587370536564954\n",
      "lambda: 1 iteration: 80 loss : 11.772516314871151\n",
      "lambda: 1 iteration: 100 loss : 9.711915319232094\n",
      "lambda: 1 iteration: 120 loss : 8.108972924939154\n",
      "lambda: 1 iteration: 140 loss : 6.822884354102491\n",
      "lambda: 1 iteration: 160 loss : 5.775165828409369\n",
      "lambda: 1 iteration: 180 loss : 4.915041238683498\n",
      "lambda: 1 iteration: 200 loss : 4.205908910538433\n",
      "lambda: 1 iteration: 220 loss : 3.619644621432906\n",
      "lambda: 1 iteration: 240 loss : 3.1339087106098105\n",
      "lambda: 1 iteration: 260 loss : 2.7306660784693233\n",
      "lambda: 1 iteration: 280 loss : 2.3952423195027817\n",
      "lambda: 1 iteration: 300 loss : 2.115650893428281\n",
      "lambda: 1 iteration: 320 loss : 1.8820802079577188\n",
      "lambda: 1 iteration: 340 loss : 1.6864885351130472\n",
      "lambda: 1 iteration: 360 loss : 1.5222784720412457\n",
      "lambda: 1 iteration: 380 loss : 1.3840331186586003\n",
      "lambda: 1 iteration: 400 loss : 1.2673013876825068\n",
      "lambda: 1 iteration: 420 loss : 1.1684229230293735\n",
      "lambda: 1 iteration: 440 loss : 1.0843851450717883\n",
      "lambda: 1 iteration: 460 loss : 1.0127064352765724\n",
      "lambda: 1 iteration: 480 loss : 0.9513406244451336\n",
      "lambda: 1 iteration: 500 loss : 0.8985988610390068\n",
      "lambda: 1 iteration: 520 loss : 0.8530856685160733\n",
      "lambda: 1 iteration: 540 loss : 0.8136465926667729\n",
      "lambda: 1 iteration: 560 loss : 0.7793253202269866\n",
      "lambda: 1 iteration: 580 loss : 0.749328540438286\n",
      "lambda: 1 iteration: 600 loss : 0.7229971389502794\n",
      "lambda: 1 iteration: 620 loss : 0.6997825722674723\n",
      "lambda: 1 iteration: 640 loss : 0.679227481900516\n",
      "lambda: 1 iteration: 660 loss : 0.6609497794297717\n",
      "lambda: 1 iteration: 680 loss : 0.644629574069628\n",
      "lambda: 1 iteration: 700 loss : 0.6299984289104621\n",
      "lambda: 1 iteration: 720 loss : 0.6168305255843938\n",
      "lambda: 1 iteration: 740 loss : 0.6049353935318224\n",
      "lambda: 1 iteration: 760 loss : 0.5941519224962621\n",
      "lambda: 1 iteration: 780 loss : 0.5843434279167469\n",
      "lambda: 1 iteration: 800 loss : 0.5753935806154007\n",
      "lambda: 1 iteration: 820 loss : 0.5672030463006966\n",
      "lambda: 1 iteration: 840 loss : 0.559686708317475\n",
      "lambda: 1 iteration: 860 loss : 0.552771369909486\n",
      "lambda: 1 iteration: 880 loss : 0.5463938509466433\n",
      "lambda: 1 iteration: 900 loss : 0.5404994093646015\n",
      "lambda: 1 iteration: 920 loss : 0.5350404300871503\n",
      "lambda: 1 iteration: 940 loss : 0.5299753344573934\n",
      "lambda: 1 iteration: 960 loss : 0.5252676716045223\n",
      "lambda: 1 iteration: 980 loss : 0.5208853600564576\n",
      "lambda: 2 iteration: 0 loss : 4404.237650531316\n",
      "lambda: 2 iteration: 20 loss : 31.047301873320293\n",
      "lambda: 2 iteration: 40 loss : 21.123136620586376\n",
      "lambda: 2 iteration: 60 loss : 15.917309426058058\n",
      "lambda: 2 iteration: 80 loss : 12.472437710005615\n",
      "lambda: 2 iteration: 100 loss : 9.971106843991922\n",
      "lambda: 2 iteration: 120 loss : 8.06564863627112\n",
      "lambda: 2 iteration: 140 loss : 6.578839505964659\n",
      "lambda: 2 iteration: 160 loss : 5.404576288975435\n",
      "lambda: 2 iteration: 180 loss : 4.471045566580372\n",
      "lambda: 2 iteration: 200 loss : 3.725816324976984\n",
      "lambda: 2 iteration: 220 loss : 3.129028569448547\n",
      "lambda: 2 iteration: 240 loss : 2.6497649560985863\n",
      "lambda: 2 iteration: 260 loss : 2.2638078923448863\n",
      "lambda: 2 iteration: 280 loss : 1.9520924963347162\n",
      "lambda: 2 iteration: 300 loss : 1.6995676004711573\n",
      "lambda: 2 iteration: 320 loss : 1.494328123408307\n",
      "lambda: 2 iteration: 340 loss : 1.326943030435709\n",
      "lambda: 2 iteration: 360 loss : 1.1899305712735002\n",
      "lambda: 2 iteration: 380 loss : 1.077346867869457\n",
      "lambda: 2 iteration: 400 loss : 0.9844626679334993\n",
      "lambda: 2 iteration: 420 loss : 0.9075090307513051\n",
      "lambda: 2 iteration: 440 loss : 0.843477051067594\n",
      "lambda: 2 iteration: 460 loss : 0.7899600089774592\n",
      "lambda: 2 iteration: 480 loss : 0.7450288618860603\n",
      "lambda: 2 iteration: 500 loss : 0.7071339592544414\n",
      "lambda: 2 iteration: 520 loss : 0.6750273943727392\n",
      "lambda: 2 iteration: 540 loss : 0.6477016071877515\n",
      "lambda: 2 iteration: 560 loss : 0.624340792158584\n",
      "lambda: 2 iteration: 580 loss : 0.604282402148975\n",
      "lambda: 2 iteration: 600 loss : 0.5869866176737835\n",
      "lambda: 2 iteration: 620 loss : 0.572012104830441\n",
      "lambda: 2 iteration: 640 loss : 0.5589967418513659\n",
      "lambda: 2 iteration: 660 loss : 0.5476422744356404\n",
      "lambda: 2 iteration: 680 loss : 0.5377020803140378\n",
      "lambda: 2 iteration: 700 loss : 0.5289713967603558\n",
      "lambda: 2 iteration: 720 loss : 0.5212795010855926\n",
      "lambda: 2 iteration: 740 loss : 0.5144834414605958\n",
      "lambda: 2 iteration: 760 loss : 0.5084629999208495\n",
      "lambda: 2 iteration: 780 loss : 0.5031166359902188\n",
      "lambda: 2 iteration: 800 loss : 0.4983582118468377\n",
      "lambda: 2 iteration: 820 loss : 0.4941143413503261\n",
      "lambda: 2 iteration: 840 loss : 0.4903222379170068\n",
      "lambda: 2 iteration: 860 loss : 0.48692796202492805\n",
      "lambda: 2 iteration: 880 loss : 0.48388498951243564\n",
      "lambda: 2 iteration: 900 loss : 0.4811530379502695\n",
      "lambda: 2 iteration: 920 loss : 0.4786971011203402\n",
      "lambda: 2 iteration: 940 loss : 0.47648665173481497\n",
      "lambda: 2 iteration: 960 loss : 0.4744949805360476\n",
      "lambda: 2 iteration: 980 loss : 0.472698646271584\n",
      "lambda: 4 iteration: 0 loss : 4431.237650531316\n",
      "lambda: 4 iteration: 20 loss : 37.27990184495401\n",
      "lambda: 4 iteration: 40 loss : 24.278842362237416\n",
      "lambda: 4 iteration: 60 loss : 17.210938203567913\n",
      "lambda: 4 iteration: 80 loss : 12.615329890267025\n",
      "lambda: 4 iteration: 100 loss : 9.419479183825917\n",
      "lambda: 4 iteration: 120 loss : 7.122092910099392\n",
      "lambda: 4 iteration: 140 loss : 5.442772422121752\n",
      "lambda: 4 iteration: 160 loss : 4.204123146786303\n",
      "lambda: 4 iteration: 180 loss : 3.285358327076691\n",
      "lambda: 4 iteration: 200 loss : 2.6009823891639483\n"
     ]
    },
    {
     "name": "stdout",
     "output_type": "stream",
     "text": [
      "lambda: 4 iteration: 220 loss : 2.0892948847321415\n",
      "lambda: 4 iteration: 240 loss : 1.7053276192519538\n",
      "lambda: 4 iteration: 260 loss : 1.416127725899058\n",
      "lambda: 4 iteration: 280 loss : 1.1974610959155005\n",
      "lambda: 4 iteration: 300 loss : 1.031455458097063\n",
      "lambda: 4 iteration: 320 loss : 0.9048963091002458\n",
      "lambda: 4 iteration: 340 loss : 0.8079877602451742\n",
      "lambda: 4 iteration: 360 loss : 0.7334484817941624\n",
      "lambda: 4 iteration: 380 loss : 0.6758506396823359\n",
      "lambda: 4 iteration: 400 loss : 0.6311356198677653\n",
      "lambda: 4 iteration: 420 loss : 0.5962586451694414\n",
      "lambda: 4 iteration: 440 loss : 0.5689275173716088\n",
      "lambda: 4 iteration: 460 loss : 0.5474101952546541\n",
      "lambda: 4 iteration: 480 loss : 0.5303927863139422\n",
      "lambda: 4 iteration: 500 loss : 0.5168745156108796\n",
      "lambda: 4 iteration: 520 loss : 0.5060898599312253\n",
      "lambda: 4 iteration: 540 loss : 0.49745067362002493\n",
      "lambda: 4 iteration: 560 loss : 0.4905030545649197\n",
      "lambda: 4 iteration: 580 loss : 0.4848951005856263\n",
      "lambda: 4 iteration: 600 loss : 0.480352729872503\n",
      "lambda: 4 iteration: 620 loss : 0.476661487074856\n",
      "lambda: 4 iteration: 640 loss : 0.4736528039482699\n",
      "lambda: 4 iteration: 660 loss : 0.4711935844737896\n",
      "lambda: 4 iteration: 680 loss : 0.46917827858315475\n",
      "lambda: 4 iteration: 700 loss : 0.46752282482922414\n",
      "lambda: 4 iteration: 720 loss : 0.46616000148206665\n",
      "lambda: 4 iteration: 740 loss : 0.4650358428838759\n",
      "lambda: 4 iteration: 760 loss : 0.46410686460533324\n",
      "lambda: 4 iteration: 780 loss : 0.4633379051527901\n",
      "lambda: 4 iteration: 800 loss : 0.4627004396313437\n",
      "lambda: 4 iteration: 820 loss : 0.46217125623021205\n",
      "lambda: 4 iteration: 840 loss : 0.46173141285660335\n",
      "lambda: 4 iteration: 860 loss : 0.461365411045827\n",
      "lambda: 4 iteration: 880 loss : 0.4610605391409642\n",
      "lambda: 4 iteration: 900 loss : 0.4608063479329218\n",
      "lambda: 4 iteration: 920 loss : 0.4605942304162427\n",
      "lambda: 4 iteration: 940 loss : 0.46041708373861584\n",
      "lambda: 4 iteration: 960 loss : 0.4602690363142779\n",
      "lambda: 4 iteration: 980 loss : 0.46014522681323006\n",
      "lambda: 5 iteration: 0 loss : 4444.737650531316\n",
      "lambda: 5 iteration: 20 loss : 39.95384605206371\n",
      "lambda: 5 iteration: 40 loss : 25.30666273929652\n",
      "lambda: 5 iteration: 60 loss : 17.345431306465148\n",
      "lambda: 5 iteration: 80 loss : 12.273629116813495\n",
      "lambda: 5 iteration: 100 loss : 8.847158514238277\n",
      "lambda: 5 iteration: 120 loss : 6.46480152016383\n",
      "lambda: 5 iteration: 140 loss : 4.783976807874149\n",
      "lambda: 5 iteration: 160 loss : 3.588349082379821\n",
      "lambda: 5 iteration: 180 loss : 2.7332539493802597\n",
      "lambda: 5 iteration: 200 loss : 2.119078347207724\n",
      "lambda: 5 iteration: 220 loss : 1.6762138394104698\n",
      "lambda: 5 iteration: 240 loss : 1.3556367301891479\n",
      "lambda: 5 iteration: 260 loss : 1.1226557682733853\n",
      "lambda: 5 iteration: 280 loss : 0.9526359109797553\n",
      "lambda: 5 iteration: 300 loss : 0.8280298400150621\n",
      "lambda: 5 iteration: 320 loss : 0.7363015982374865\n",
      "lambda: 5 iteration: 340 loss : 0.6684679768956727\n",
      "lambda: 5 iteration: 360 loss : 0.6180708952577665\n",
      "lambda: 5 iteration: 380 loss : 0.5804517224810756\n",
      "lambda: 5 iteration: 400 loss : 0.552237697473734\n",
      "lambda: 5 iteration: 420 loss : 0.5309776455630587\n",
      "lambda: 5 iteration: 440 loss : 0.514882984413057\n",
      "lambda: 5 iteration: 460 loss : 0.5026431238255337\n",
      "lambda: 5 iteration: 480 loss : 0.49329353394645814\n",
      "lambda: 5 iteration: 500 loss : 0.4861211800985835\n",
      "lambda: 5 iteration: 520 loss : 0.48059652884940934\n",
      "lambda: 5 iteration: 540 loss : 0.47632449561270285\n",
      "lambda: 5 iteration: 560 loss : 0.4730089310777069\n",
      "lambda: 5 iteration: 580 loss : 0.4704268127458924\n",
      "lambda: 5 iteration: 600 loss : 0.4684094150318863\n",
      "lambda: 5 iteration: 620 loss : 0.46682851404415904\n",
      "lambda: 5 iteration: 640 loss : 0.4655862374704562\n",
      "lambda: 5 iteration: 660 loss : 0.46460756338801745\n",
      "lambda: 5 iteration: 680 loss : 0.4638347516399818\n",
      "lambda: 5 iteration: 700 loss : 0.46322319094169506\n",
      "lambda: 5 iteration: 720 loss : 0.4627382875227859\n",
      "lambda: 5 iteration: 740 loss : 0.462353123379038\n",
      "lambda: 5 iteration: 760 loss : 0.46204668575441926\n",
      "lambda: 5 iteration: 780 loss : 0.4618025225378677\n",
      "lambda: 5 iteration: 800 loss : 0.46160771667911815\n",
      "lambda: 5 iteration: 820 loss : 0.46145210064713993\n",
      "lambda: 5 iteration: 840 loss : 0.461327652322144\n",
      "lambda: 5 iteration: 860 loss : 0.4612280286304989\n",
      "lambda: 5 iteration: 880 loss : 0.4611482042049811\n",
      "lambda: 5 iteration: 900 loss : 0.4610841904588593\n",
      "lambda: 5 iteration: 920 loss : 0.46103281647693356\n",
      "lambda: 5 iteration: 940 loss : 0.4609915576094356\n",
      "lambda: 5 iteration: 960 loss : 0.46095840101087143\n",
      "lambda: 5 iteration: 980 loss : 0.46093173988987823\n"
     ]
    }
   ],
   "source": [
    "# Gradient Descent with L2 reg\n",
    "\n",
    "alpha =0.001\n",
    "itns = 1000\n",
    "lambdas = [0.5,1,2,4,5]\n",
    "losses_l2 = {}\n",
    "losses_l2_val = {}\n",
    "counter_l2 = []\n",
    "w_store = {}\n",
    "\n",
    "for lambda_ in lambdas:\n",
    "    losses_l2[lambda_] = []\n",
    "    w = np.array([0,1,1,1,1,1,1,1,1,1,1,1,1,1,1,1,1,1,1,1,1,1,1,1,1,1,1,1])\n",
    "    for i in range(itns):\n",
    "        y_hat = w.dot(X_train_6.T)  \n",
    "        if i%20 == 0:  \n",
    "            loss_ = lossL2(X_train_6,w,y_train,lambda_)\n",
    "            losses_l2[lambda_].append(loss_)\n",
    "            counter_l2.append(i)\n",
    "            print(\"lambda: {} iteration: {} loss : {}\" .format(lambda_,i,loss_))\n",
    "            \n",
    "        w_der = (y_hat-y_train)*(X_train_6.T)\n",
    "        w_der_norm = np.mean(w_der, axis = 1) + lambda_*w\n",
    "        w = w - alpha*w_der_norm\n",
    "    w_store[lambda_] = w\n",
    "    losses_l2_val[lambda_] = lossL2(X_val_6, w, y_val,lambda_)"
   ]
  },
  {
   "cell_type": "code",
   "execution_count": 200,
   "metadata": {},
   "outputs": [
    {
     "data": {
      "image/png": "[encoded data removed]",
      "text/plain": [
       "<matplotlib.figure.Figure at 0x10f891dd8>"
      ]
     },
     "metadata": {},
     "output_type": "display_data"
    }
   ],
   "source": [
    "colors = np.array(['red','green','blue','yellow','brown','pink'])\n",
    "for i,lamb in enumerate(losses_l2.keys()):\n",
    "    plt.plot(counter_l2[1:50], losses_l2[lamb][1:],color = colors[i])"
   ]
  },
  {
   "cell_type": "code",
   "execution_count": 201,
   "metadata": {},
   "outputs": [
    {
     "name": "stdout",
     "output_type": "stream",
     "text": [
      "0.552764300405\n",
      "0.513500390207\n",
      "0.467613109979\n",
      "0.456295538978\n",
      "0.457103242733\n"
     ]
    },
    {
     "data": {
      "image/png": "[encoded data removed]",
      "text/plain": [
       "<matplotlib.figure.Figure at 0x10eeb9240>"
      ]
     },
     "metadata": {},
     "output_type": "display_data"
    }
   ],
   "source": [
    "for i,lamb in enumerate(losses_l2_val.keys()):\n",
    "    plt.scatter(lamb,losses_l2_val[lamb],color=colors[i])\n",
    "    print(losses_l2_val[lamb])"
   ]
  },
  {
   "cell_type": "code",
   "execution_count": 203,
   "metadata": {},
   "outputs": [
    {
     "name": "stdout",
     "output_type": "stream",
     "text": [
      "[0.091102721781383567, 0.95602423255776714]\n"
     ]
    }
   ],
   "source": [
    "print(RSq_RMS(w_store[4],X_test_6,y_test))"
   ]
  },
  {
   "cell_type": "code",
   "execution_count": 205,
   "metadata": {},
   "outputs": [
    {
     "name": "stdout",
     "output_type": "stream",
     "text": [
      "0.46406128067\n"
     ]
    }
   ],
   "source": [
    "# Gradient Descent with L2 reg for testing\n",
    "loss_l2gd_test = lossL2(X_test_6, w_store[4], y_test, 4)\n",
    "#print(w_store[4])\n",
    "print(loss_l2gd_test)"
   ]
  },
  {
   "cell_type": "code",
   "execution_count": null,
   "metadata": {
    "collapsed": true
   },
   "outputs": [],
   "source": []
  }
 ],
 "metadata": {
  "kernelspec": {
   "display_name": "Python 3",
   "language": "python",
   "name": "python3"
  },
  "language_info": {
   "codemirror_mode": {
    "name": "ipython",
    "version": 3
   },
   "file_extension": ".py",
   "mimetype": "text/x-python",
   "name": "python",
   "nbconvert_exporter": "python",
   "pygments_lexer": "ipython3",
   "version": "3.6.2"
  }
 },
 "nbformat": 4,
 "nbformat_minor": 2
}
